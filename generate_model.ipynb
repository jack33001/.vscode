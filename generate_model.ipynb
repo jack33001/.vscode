{
 "cells": [
  {
   "cell_type": "markdown",
   "metadata": {
    "id": "t0CF6Gvkt_Cw"
   },
   "source": [
    "# .mjb Model Generator"
   ]
  },
  {
   "cell_type": "code",
   "execution_count": 1,
   "metadata": {},
   "outputs": [],
   "source": [
    "import mujoco\n",
    "import mediapy as media\n",
    "import matplotlib.pyplot as plt\n",
    "\n",
    "import time\n",
    "import itertools\n",
    "import numpy as np"
   ]
  },
  {
   "cell_type": "code",
   "execution_count": 2,
   "metadata": {},
   "outputs": [],
   "source": [
    "xml = '''<mujoco model=\"Quadruped URDF\">\n",
    "  <compiler angle=\"radian\" meshdir=\"Quadruped URDF/meshes/\"/>\n",
    "  <asset>\n",
    "    <mesh name=\"Body_bin\" file=\"Body_bin.STL\"/>\n",
    "    <mesh name=\"Front Right Thigh\" file=\"Front Right Thigh.STL\"/>\n",
    "    <mesh name=\"Front Right Shin\" file=\"Front Right Shin.STL\"/>\n",
    "    <mesh name=\"Front Left Thigh\" file=\"Front Left Thigh.STL\"/>\n",
    "    <mesh name=\"Front Left Shin\" file=\"Front Left Shin.STL\"/>\n",
    "    <mesh name=\"Rear Right Thigh\" file=\"Rear Right Thigh.STL\"/>\n",
    "    <mesh name=\"Rear Right Shin\" file=\"Rear Right Shin.STL\"/>\n",
    "    <mesh name=\"Rear Left Thigh\" file=\"Rear Left Thigh.STL\"/>\n",
    "    <mesh name=\"Rear Left Shin\" file=\"Rear Left Shin.STL\"/>\n",
    "  </asset>\n",
    "  <asset>\n",
    "    <texture name=\"grid\" type=\"2d\" builtin=\"checker\" rgb1=\".1 .2 .3\"\n",
    "     rgb2=\".2 .3 .4\" width=\"300\" height=\"300\" mark=\"none\"/>\n",
    "    <material name=\"grid\" texture=\"grid\" texrepeat=\"6 6\"\n",
    "     texuniform=\"true\" reflectance=\".2\"/>\n",
    "     <material name=\"wall\" rgba='.5 .5 .5 1'/>\n",
    "  </asset>\n",
    "  <worldbody>\n",
    "    <light name=\"light\" pos=\"-.2 0 1\"/>\n",
    "    <geom name=\"ground\" type=\"plane\" size=\"10 10 10\" material=\"grid\" contype=\"1\" conaffinity=\"1\"/> \n",
    "    <body name=\"Body\" pos=\"0 0 .3\">\n",
    "    <joint name=\"Body Free\" type=\"free\"/>\n",
    "      <geom name=\"Body\" type=\"mesh\" contype=\"1\" conaffinity=\"1\" group=\"1\" density=\"0\" rgba=\"0.363396 0.999339 0 1\" mesh=\"Body_bin\"/>\n",
    "      <inertial pos=\"0.0004967 -0.0019144 -0.00656282\" quat=\"0.499113 0.500689 -0.500109 0.500088\" mass=\"2.72713097\" diaginertia=\"0.03707987 0.037216486 0.00367331\"/>\n",
    "      <body name=\"Front Right Thigh\" pos=\"-0.15605 -0.1796 0\" quat=\"0.286214 0.646591 -0.286219 -0.646591\">\n",
    "        <inertial pos=\"2.43741e-05 -0.0142051 -0.00547111\" quat=\"0.499113 0.500689 -0.500109 0.500088\" mass=\"0.513489\" diaginertia=\"0.00102412 0.000703444 0.000379087\"/>\n",
    "        <joint name=\"Front Right Hip\" type=\"hinge\" pos=\"0 0 0\" axis=\"0 0 1\"/>\n",
    "        <geom name=\"Front Right Thigh\" type=\"mesh\" contype=\"1\" conaffinity=\"1\" group=\"1\" density=\"0\" rgba=\".580992 .393846 .712274 1\" mesh=\"Front Right Thigh\"/>\n",
    "        <body name=\"Front Right Shin\" pos=\"0 -0.13625 0.014875\">\n",
    "          <inertial pos=\"0.124878 -0.00732498 0.000175056\" quat=\"0.0207105 0.70682 -0.0207132 0.706787\" mass=\"0.12961\" diaginertia=\"5.097e-05 4.99084e-05 3.51177e-05\"/>\n",
    "          <joint name=\"Front Right Knee\" type=\"hinge\" pos=\"0 0 0\" axis=\"0 0 1\"/>\n",
    "          <geom name=\"Front Right Shin\" type=\"mesh\" contype=\"1\" conaffinity=\"1\" group=\"1\" density=\"0\" rgba=\"0.741616 0.534085 0.405905 1\" mesh=\"Front Right Shin\"/>\n",
    "        </body>\n",
    "      </body>\n",
    "      <body name=\"Front Left Thigh\" pos=\"0.15605 -0.1796 0\" quat=\"0.286214 0.646591 -0.286219 -0.646591\">\n",
    "        <inertial pos=\"-2.69567e-06 -0.0142673 0.00542296\" quat=\"0.500442 0.499547 -0.499649 0.500361\" mass=\"0.513479\" diaginertia=\"0.00102412 0.000703378 0.000379152\"/>\n",
    "        <joint name=\"Front Left Hip\" type=\"hinge\" pos=\"0 0 0\" axis=\"0 0 1\"/>\n",
    "        <geom name = \"Front Left Thigh\" type=\"mesh\" contype=\"1\" conaffinity=\"1\" group=\"1\" density=\"0\" rgba=\".580992 .393846 .712274 1\" mesh=\"Front Left Thigh\"/>\n",
    "        <body name=\"Front Left Shin\" pos=\"0 -0.13625 -0.015125\">\n",
    "          <inertial pos=\"0.124878 -0.00732498 0.000177556\" quat=\"0.0207105 0.70682 -0.0207132 0.706787\" mass=\"0.12961\" diaginertia=\"5.097e-05 4.99084e-05 3.51177e-05\"/>\n",
    "          <joint name=\"Front Left Knee\" type=\"hinge\" pos=\"0 0 0\" axis=\"0 0 1\"/>\n",
    "          <geom name=\"Front Left Shin\" type=\"mesh\" contype=\"1\" conaffinity=\"1\" group=\"1\" density=\"0\" rgba=\"0.741616 0.534085 0.405905 1\" mesh=\"Front Left Shin\"/>\n",
    "        </body>\n",
    "      </body>\n",
    "      <body name=\"Rear Right Thigh\" pos=\"-0.15605 0.1796 0\" quat=\"0.286214 0.646591 -0.286219 -0.646591\">\n",
    "        <inertial pos=\"2.43741e-05 -0.0142051 -0.00547111\" quat=\"0.499113 0.500689 -0.500109 0.500088\" mass=\"0.513489\" diaginertia=\"0.00102412 0.000703444 0.000379087\"/>\n",
    "        <joint name=\"Rear Right Hip\" type=\"hinge\" pos=\"0 0 0\" axis=\"0 0 1\"/>\n",
    "        <geom name=\"Rear Right Thigh\" type=\"mesh\" contype=\"1\" conaffinity=\"1\" group=\"1\" density=\"0\" rgba=\".580992 .393846 .712274 1\" mesh=\"Rear Right Thigh\"/>\n",
    "        <body name=\"Rear Right Shin\" pos=\"0 -0.13625 0.015125\">\n",
    "          <inertial pos=\"0.124878 -0.00732498 0.000177556\" quat=\"0.0207105 0.70682 -0.0207132 0.706787\" mass=\"0.12961\" diaginertia=\"5.097e-05 4.99084e-05 3.51177e-05\"/>\n",
    "          <joint name=\"Rear Right Knee\" type=\"hinge\" pos=\"0 0 0\" axis=\"0 0 1\"/>\n",
    "          <geom name=\"Rear Right Shin\" type=\"mesh\" contype=\"1\" conaffinity=\"1\" group=\"1\" density=\"0\" rgba=\"0.741616 0.534085 0.405905 1\" mesh=\"Rear Right Shin\"/>\n",
    "        </body>\n",
    "      </body>\n",
    "      <body name=\"Rear Left Thigh\" pos=\"0.15605 0.1796 0\" quat=\"0.286215 0.646592 -0.286215 -0.646592\">\n",
    "        <inertial pos=\"-2.69567e-06 -0.0142673 0.00542296\" quat=\"0.500442 0.499547 -0.499649 0.500361\" mass=\"0.513479\" diaginertia=\"0.00102412 0.000703378 0.000379152\"/>\n",
    "        <joint name=\"Rear Left Hip\" type=\"hinge\" pos=\"0 0 0\" axis=\"0 0 1\"/>\n",
    "        <geom name=\"Rear Left Thigh\" type=\"mesh\" contype=\"1\" conaffinity=\"1\" group=\"1\" density=\"0\" rgba=\".580992 .393846 .712274 1\" mesh=\"Rear Left Thigh\"/>\n",
    "        <body name=\"Rear Left Shin\" pos=\"0 -0.13625 -0.015125\">\n",
    "          <inertial pos=\"0.124878 -0.00732498 0.000175056\" quat=\"0.0207105 0.70682 -0.0207132 0.706787\" mass=\"0.12961\" diaginertia=\"5.097e-05 4.99084e-05 3.51177e-05\"/>\n",
    "          <joint name=\"Rear Left Knee\" type=\"hinge\" pos=\"0 0 0\" axis=\"0 0 1\"/>\n",
    "          <geom name=\"Rear Left Shin\" type=\"mesh\" contype=\"1\" conaffinity=\"1\" group=\"1\" density=\"0\" rgba=\"0.741616 0.534085 0.405905 1\" mesh=\"Rear Left Shin\"/>\n",
    "        </body>\n",
    "      </body>\n",
    "    </body>\n",
    "  </worldbody>\n",
    "\n",
    "  <actuator>\n",
    "\t\t<position name=\"kp fr hip\" joint=\"Front Right Hip\" kp=\"100\"/>\n",
    "\t\t<velocity name=\"kd fr hip\" joint=\"Front Right Hip\" kv=\"5\"/> \n",
    "        \n",
    "    <position name=\"kp fr knee\" joint=\"Front Right Knee\" kp=\"100\"/>\n",
    "\t\t<velocity name=\"kd fr knee\" joint=\"Front Right Knee\" kv=\"5\"/> \n",
    "        \n",
    "    <position name=\"kp fl hip\" joint=\"Front Left Hip\" kp=\"100\"/>\n",
    "\t\t<velocity name=\"kd fl hip\" joint=\"Front Left Hip\" kv=\"5\"/> \n",
    "        \n",
    "    <position name=\"kp fl knee\" joint=\"Front Left Knee\" kp=\"100\"/>\n",
    "\t\t<velocity name=\"kd fl knee\" joint=\"Front Left Knee\" kv=\"5\"/> \n",
    "        \n",
    "    <position name=\"kp rr hip\" joint=\"Rear Right Hip\" kp=\"100\"/>\n",
    "\t\t<velocity name=\"kd rr hip\" joint=\"Rear Right Hip\" kv=\"5\"/> \n",
    "        \n",
    "    <position name=\"kp rr knee\" joint=\"Rear Right Knee\" kp=\"100\"/>\n",
    "\t\t<velocity name=\"kd rr knee\" joint=\"Rear Right Knee\" kv=\"5\"/> \n",
    "        \n",
    "    <position name=\"kp rl hip\" joint=\"Rear Left Hip\" kp=\"100\"/>\n",
    "\t\t<velocity name=\"kd rl hip\" joint=\"Rear Left Hip\" kv=\"5\"/> \n",
    "        \n",
    "    <position name=\"kp rl knee\" joint=\"Rear Left Knee\" kp=\"100\"/>\n",
    "\t\t<velocity name=\"kd rl knee\" joint=\"Rear Left Knee\" kv=\"5\"/>   \n",
    "\t</actuator>\n",
    "\n",
    "\n",
    "</mujoco>'''"
   ]
  },
  {
   "cell_type": "code",
   "execution_count": 3,
   "metadata": {
    "id": "3KJVqak6xdJa"
   },
   "outputs": [],
   "source": [
    "model = mujoco.MjModel.from_xml_string(xml)\n",
    "'''When the urdf is imported PERFECTLY, save it with:'''\n",
    "mujoco.mj_saveModel(model,\"Quadruped MJB.mjb\") \n",
    "\n",
    "data = mujoco.MjData(model)\n",
    "renderer = mujoco.Renderer(model)"
   ]
  },
  {
   "cell_type": "markdown",
   "metadata": {
    "id": "-P95E-QHizQq"
   },
   "source": [
    "# Simulation\n",
    "\n",
    "Now let's simulate and make a video. We'll use MuJoCo's main high level function `mj_step`, which steps the state $x_{t+h} = f(x_t)$.\n",
    "\n",
    "Note that in the code block below we are *not* rendering after each call to `mj_step`. This is because the default timestep is 2ms, and we want a 60fps video, not 500fps."
   ]
  },
  {
   "cell_type": "code",
   "execution_count": 4,
   "metadata": {
    "id": "NdVnHOYisiKl"
   },
   "outputs": [
    {
     "name": "stdout",
     "output_type": "stream",
     "text": [
      "WARNING: Nan, Inf or huge value in QACC at DOF 12. The simulation is unstable. Time = 0.0420.\n",
      "\n"
     ]
    },
    {
     "ename": "KeyboardInterrupt",
     "evalue": "",
     "output_type": "error",
     "traceback": [
      "\u001b[0;31m---------------------------------------------------------------------------\u001b[0m",
      "\u001b[0;31mKeyboardInterrupt\u001b[0m                         Traceback (most recent call last)",
      "Cell \u001b[0;32mIn[4], line 8\u001b[0m\n\u001b[1;32m      6\u001b[0m mujoco\u001b[38;5;241m.\u001b[39mmj_resetData(model, data)  \u001b[38;5;66;03m# Reset state and time.\u001b[39;00m\n\u001b[1;32m      7\u001b[0m \u001b[38;5;28;01mwhile\u001b[39;00m data\u001b[38;5;241m.\u001b[39mtime \u001b[38;5;241m<\u001b[39m duration:\n\u001b[0;32m----> 8\u001b[0m   \u001b[43mmujoco\u001b[49m\u001b[38;5;241;43m.\u001b[39;49m\u001b[43mmj_step\u001b[49m\u001b[43m(\u001b[49m\u001b[43mmodel\u001b[49m\u001b[43m,\u001b[49m\u001b[43m \u001b[49m\u001b[43mdata\u001b[49m\u001b[43m)\u001b[49m\n\u001b[1;32m     11\u001b[0m   \u001b[38;5;28;01mif\u001b[39;00m \u001b[38;5;28mlen\u001b[39m(frames) \u001b[38;5;241m<\u001b[39m data\u001b[38;5;241m.\u001b[39mtime \u001b[38;5;241m*\u001b[39m framerate:\n\u001b[1;32m     12\u001b[0m     renderer\u001b[38;5;241m.\u001b[39mupdate_scene(data)\n",
      "\u001b[0;31mKeyboardInterrupt\u001b[0m: "
     ]
    }
   ],
   "source": [
    "duration = 3.8  # (seconds)\n",
    "framerate = 30  # (Hz)\n",
    "\n",
    "# Simulate and display video.\n",
    "frames = []\n",
    "mujoco.mj_resetData(model, data)  # Reset state and time.\n",
    "while data.time < duration:\n",
    "  mujoco.mj_step(model, data)\n",
    "\n",
    "\n",
    "  if len(frames) < data.time * framerate:\n",
    "    renderer.update_scene(data)\n",
    "    pixels = renderer.render()\n",
    "    frames.append(pixels)\n",
    "media.show_video(frames, fps=framerate)"
   ]
  },
  {
   "cell_type": "markdown",
   "metadata": {
    "id": "-P95E-QHizQq"
   },
   "source": [
    "But isn't anything moving?"
   ]
  }
 ],
 "metadata": {
  "accelerator": "GPU",
  "colab": {
   "collapsed_sections": [
    "-re3Szx-1Ias"
   ],
   "private_outputs": true,
   "provenance": [],
   "toc_visible": true
  },
  "gpuClass": "premium",
  "kernelspec": {
   "display_name": "Python 3 (ipykernel)",
   "language": "python",
   "name": "python3"
  },
  "language_info": {
   "codemirror_mode": {
    "name": "ipython",
    "version": 3
   },
   "file_extension": ".py",
   "mimetype": "text/x-python",
   "name": "python",
   "nbconvert_exporter": "python",
   "pygments_lexer": "ipython3",
   "version": "3.11.9"
  }
 },
 "nbformat": 4,
 "nbformat_minor": 1
}
