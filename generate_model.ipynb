{
 "cells": [
  {
   "cell_type": "markdown",
   "metadata": {
    "id": "t0CF6Gvkt_Cw"
   },
   "source": [
    "# .mjb Model Generator"
   ]
  },
  {
   "cell_type": "code",
   "execution_count": 7,
   "metadata": {},
   "outputs": [],
   "source": [
    "import mujoco\n",
    "import mediapy as media\n",
    "import matplotlib.pyplot as plt\n",
    "\n",
    "import time\n",
    "import itertools\n",
    "import numpy as np"
   ]
  },
  {
   "cell_type": "code",
   "execution_count": 8,
   "metadata": {},
   "outputs": [],
   "source": [
    "xml = '''<mujoco model=\"Quadruped URDF\">\n",
    "  <compiler angle=\"radian\" meshdir=\"Quadruped URDF/meshes/\"/>\n",
    "  <option>\n",
    "    <flag energy=\"enable\"/>\n",
    "  </option>\n",
    "  <asset>\n",
    "    <mesh name=\"Body_bin\" file=\"Body_bin.STL\"/>\n",
    "    <mesh name=\"Front Right Thigh\" file=\"Front Right Thigh.STL\"/>\n",
    "    <mesh name=\"Front Right Shin\" file=\"Front Right Shin.STL\"/>\n",
    "    <mesh name=\"Front Left Thigh\" file=\"Front Left Thigh.STL\"/>\n",
    "    <mesh name=\"Front Left Shin\" file=\"Front Left Shin.STL\"/>\n",
    "    <mesh name=\"Rear Right Thigh\" file=\"Rear Right Thigh.STL\"/>\n",
    "    <mesh name=\"Rear Right Shin\" file=\"Rear Right Shin.STL\"/>\n",
    "    <mesh name=\"Rear Left Thigh\" file=\"Rear Left Thigh.STL\"/>\n",
    "    <mesh name=\"Rear Left Shin\" file=\"Rear Left Shin.STL\"/>\n",
    "  </asset>\n",
    "  <asset>\n",
    "    <texture name=\"grid\" type=\"2d\" builtin=\"checker\" rgb1=\".1 .2 .3\"\n",
    "     rgb2=\".2 .3 .4\" width=\"300\" height=\"300\" mark=\"none\"/>\n",
    "    <material name=\"grid\" texture=\"grid\" texrepeat=\"6 6\"\n",
    "     texuniform=\"true\" reflectance=\".2\"/>\n",
    "     <material name=\"wall\" rgba='.5 .5 .5 1'/>\n",
    "  </asset>\n",
    "  <worldbody>\n",
    "    <light name=\"light\" pos=\"-.2 0 1\"/>\n",
    "    <geom name=\"ground\" type=\"plane\" size=\"10 10 10\" material=\"grid\" contype=\"1\" conaffinity=\"1\"/> \n",
    "    <body name=\"Body\" pos=\"0 0 .3\">\n",
    "    <joint name=\"Body Free\" type=\"free\"/>\n",
    "      <geom name=\"Body\" type=\"mesh\" contype=\"1\" conaffinity=\"1\" group=\"1\" density=\"0\" rgba=\"0.363396 0.999339 0 1\" mesh=\"Body_bin\"/>\n",
    "      <inertial pos=\"0.0004967 -0.0019144 -0.00656282\" quat=\"0.499113 0.500689 -0.500109 0.500088\" mass=\"2.72713097\" diaginertia=\"0.03707987 0.037216486 0.00367331\"/>\n",
    "      <body name=\"Front Right Thigh\" pos=\"-0.15605 -0.1796 0\" quat=\"0.286214 0.646591 -0.286219 -0.646591\">\n",
    "        <inertial pos=\"2.43741e-05 -0.0142051 -0.00547111\" quat=\"0.499113 0.500689 -0.500109 0.500088\" mass=\"0.513489\" diaginertia=\"0.00102412 0.000703444 0.000379087\"/>\n",
    "        <joint name=\"Front Right Hip\" type=\"hinge\" pos=\"0 0 0\" axis=\"0 0 1\"/>\n",
    "        <geom name=\"Front Right Thigh\" type=\"mesh\" contype=\"1\" conaffinity=\"1\" group=\"1\" density=\"0\" rgba=\".580992 .393846 .712274 1\" mesh=\"Front Right Thigh\"/>\n",
    "        <body name=\"Front Right Shin\" pos=\"0 -0.13625 0.014875\">\n",
    "          <inertial pos=\"0.124878 -0.00732498 0.000175056\" quat=\"0.0207105 0.70682 -0.0207132 0.706787\" mass=\"0.12961\" diaginertia=\"5.097e-05 4.99084e-05 3.51177e-05\"/>\n",
    "          <joint name=\"Front Right Knee\" type=\"hinge\" pos=\"0 0 0\" axis=\"0 0 1\"/>\n",
    "          <geom name=\"Front Right Shin\" type=\"mesh\" contype=\"1\" conaffinity=\"1\" group=\"1\" density=\"0\" rgba=\"0.741616 0.534085 0.405905 1\" mesh=\"Front Right Shin\"/>\n",
    "        </body>\n",
    "      </body>\n",
    "      <body name=\"Front Left Thigh\" pos=\"0.15605 -0.1796 0\" quat=\"0.286214 0.646591 -0.286219 -0.646591\">\n",
    "        <inertial pos=\"-2.69567e-06 -0.0142673 0.00542296\" quat=\"0.500442 0.499547 -0.499649 0.500361\" mass=\"0.513479\" diaginertia=\"0.00102412 0.000703378 0.000379152\"/>\n",
    "        <joint name=\"Front Left Hip\" type=\"hinge\" pos=\"0 0 0\" axis=\"0 0 1\"/>\n",
    "        <geom name = \"Front Left Thigh\" type=\"mesh\" contype=\"1\" conaffinity=\"1\" group=\"1\" density=\"0\" rgba=\".580992 .393846 .712274 1\" mesh=\"Front Left Thigh\"/>\n",
    "        <body name=\"Front Left Shin\" pos=\"0 -0.13625 -0.015125\">\n",
    "          <inertial pos=\"0.124878 -0.00732498 0.000177556\" quat=\"0.0207105 0.70682 -0.0207132 0.706787\" mass=\"0.12961\" diaginertia=\"5.097e-05 4.99084e-05 3.51177e-05\"/>\n",
    "          <joint name=\"Front Left Knee\" type=\"hinge\" pos=\"0 0 0\" axis=\"0 0 1\"/>\n",
    "          <geom name=\"Front Left Shin\" type=\"mesh\" contype=\"1\" conaffinity=\"1\" group=\"1\" density=\"0\" rgba=\"0.741616 0.534085 0.405905 1\" mesh=\"Front Left Shin\"/>\n",
    "        </body>\n",
    "      </body>\n",
    "      <body name=\"Rear Right Thigh\" pos=\"-0.15605 0.1796 0\" quat=\"0.286214 0.646591 -0.286219 -0.646591\">\n",
    "        <inertial pos=\"2.43741e-05 -0.0142051 -0.00547111\" quat=\"0.499113 0.500689 -0.500109 0.500088\" mass=\"0.513489\" diaginertia=\"0.00102412 0.000703444 0.000379087\"/>\n",
    "        <joint name=\"Rear Right Hip\" type=\"hinge\" pos=\"0 0 0\" axis=\"0 0 1\"/>\n",
    "        <geom name=\"Rear Right Thigh\" type=\"mesh\" contype=\"1\" conaffinity=\"1\" group=\"1\" density=\"0\" rgba=\".580992 .393846 .712274 1\" mesh=\"Rear Right Thigh\"/>\n",
    "        <body name=\"Rear Right Shin\" pos=\"0 -0.13625 0.015125\">\n",
    "          <inertial pos=\"0.124878 -0.00732498 0.000177556\" quat=\"0.0207105 0.70682 -0.0207132 0.706787\" mass=\"0.12961\" diaginertia=\"5.097e-05 4.99084e-05 3.51177e-05\"/>\n",
    "          <joint name=\"Rear Right Knee\" type=\"hinge\" pos=\"0 0 0\" axis=\"0 0 1\"/>\n",
    "          <geom name=\"Rear Right Shin\" type=\"mesh\" contype=\"1\" conaffinity=\"1\" group=\"1\" density=\"0\" rgba=\"0.741616 0.534085 0.405905 1\" mesh=\"Rear Right Shin\"/>\n",
    "        </body>\n",
    "      </body>\n",
    "      <body name=\"Rear Left Thigh\" pos=\"0.15605 0.1796 0\" quat=\"0.286215 0.646592 -0.286215 -0.646592\">\n",
    "        <inertial pos=\"-2.69567e-06 -0.0142673 0.00542296\" quat=\"0.500442 0.499547 -0.499649 0.500361\" mass=\"0.513479\" diaginertia=\"0.00102412 0.000703378 0.000379152\"/>\n",
    "        <joint name=\"Rear Left Hip\" type=\"hinge\" pos=\"0 0 0\" axis=\"0 0 1\"/>\n",
    "        <geom name=\"Rear Left Thigh\" type=\"mesh\" contype=\"1\" conaffinity=\"1\" group=\"1\" density=\"0\" rgba=\".580992 .393846 .712274 1\" mesh=\"Rear Left Thigh\"/>\n",
    "        <body name=\"Rear Left Shin\" pos=\"0 -0.13625 -0.015125\">\n",
    "          <inertial pos=\"0.124878 -0.00732498 0.000175056\" quat=\"0.0207105 0.70682 -0.0207132 0.706787\" mass=\"0.12961\" diaginertia=\"5.097e-05 4.99084e-05 3.51177e-05\"/>\n",
    "          <joint name=\"Rear Left Knee\" type=\"hinge\" pos=\"0 0 0\" axis=\"0 0 1\"/>\n",
    "          <geom name=\"Rear Left Shin\" type=\"mesh\" contype=\"1\" conaffinity=\"1\" group=\"1\" density=\"0\" rgba=\"0.741616 0.534085 0.405905 1\" mesh=\"Rear Left Shin\"/>\n",
    "        </body>\n",
    "      </body>\n",
    "    </body>\n",
    "  </worldbody>\n",
    "\n",
    "  <actuator>\n",
    "\t\t<motor name=\"fr hip\" joint=\"Front Right Hip\" forcelimited=\"true\" forcerange=\"-8 8\"/>\n",
    "    <motor name=\"fr knee\" joint=\"Front Right Knee\" forcelimited=\"true\" forcerange=\"-8 8\"/>\n",
    "    <motor name=\"fl hip\" joint=\"Front Left Hip\" forcelimited=\"true\" forcerange=\"-8 8\"/>\n",
    "    <motor name=\"fl knee\" joint=\"Front Left Knee\" forcelimited=\"true\" forcerange=\"-8 8\"/>\n",
    "    <motor name=\"rr hip\" joint=\"Rear Right Hip\" forcelimited=\"true\" forcerange=\"-8 8\"/>\n",
    "    <motor name=\"rr knee\" joint=\"Rear Right Knee\" forcelimited=\"true\" forcerange=\"-8 8\"/>\n",
    "    <motor name=\"rl hip\" joint=\"Rear Left Hip\" forcelimited=\"true\" forcerange=\"-8 8\"/>\n",
    "    <motor name=\"rl knee\" joint=\"Rear Left Knee\" forcelimited=\"true\" forcerange=\"-8 8\"/> \n",
    "\t</actuator>\n",
    "\n",
    "\n",
    "</mujoco>'''"
   ]
  },
  {
   "cell_type": "code",
   "execution_count": 9,
   "metadata": {
    "id": "3KJVqak6xdJa"
   },
   "outputs": [],
   "source": [
    "model = mujoco.MjModel.from_xml_string(xml)\n",
    "'''When the urdf is imported PERFECTLY, save it with:'''\n",
    "mujoco.mj_saveModel(model, \"Quadruped MJB.mjb\")\n",
    "\n",
    "data = mujoco.MjData(model)\n",
    "renderer = mujoco.Renderer(model)"
   ]
  },
  {
   "cell_type": "markdown",
   "metadata": {
    "id": "-P95E-QHizQq"
   },
   "source": [
    "# Simulation\n",
    "\n",
    "Now let's simulate and make a video. We'll use MuJoCo's main high level function `mj_step`, which steps the state $x_{t+h} = f(x_t)$.\n",
    "\n",
    "Note that in the code block below we are *not* rendering after each call to `mj_step`. This is because the default timestep is 2ms, and we want a 60fps video, not 500fps."
   ]
  },
  {
   "cell_type": "code",
   "execution_count": 10,
   "metadata": {
    "id": "NdVnHOYisiKl"
   },
   "outputs": [
    {
     "data": {
      "text/html": [
       "<table class=\"show_videos\" style=\"border-spacing:0px;\"><tr><td style=\"padding:1px;\"><video controls width=\"320\" height=\"240\" style=\"object-fit:cover;\" loop autoplay muted>\n",
       "      <source src=\"data:video/mp4;base64,AAAAIGZ0eXBpc29tAAACAGlzb21pc28yYXZjMW1wNDEAAAAIZnJlZQAAWdptZGF0AAACfwYF//973EXpvebZSLeWLNgg2SPu73gyNjQgLSBjb3JlIDE2NCByMzA5NSBiYWVlNDAwIC0gSC4yNjQvTVBFRy00IEFWQyBjb2RlYyAtIENvcHlsZWZ0IDIwMDMtMjAyMiAtIGh0dHA6Ly93d3cudmlkZW9sYW4ub3JnL3gyNjQuaHRtbCAtIG9wdGlvbnM6IGNhYmFjPTEgcmVmPTMgZGVibG9jaz0xOjA6MCBhbmFseXNlPTB4MzoweDExMyBtZT1oZXggc3VibWU9NyBwc3k9MSBwc3lfcmQ9MS4wMDowLjAwIG1peGVkX3JlZj0xIG1lX3JhbmdlPTE2IGNocm9tYV9tZT0xIHRyZWxsaXM9MSA4eDhkY3Q9MSBjcW09MCBkZWFkem9uZT0yMSwxMSBmYXN0X3Bza2lwPTEgY2hyb21hX3FwX29mZnNldD0tMiB0aHJlYWRzPTcgbG9va2FoZWFkX3RocmVhZHM9MSBzbGljZWRfdGhyZWFkcz0wIG5yPTAgZGVjaW1hdGU9MSBpbnRlcmxhY2VkPTAgYmx1cmF5X2NvbXBhdD0wIGNvbnN0cmFpbmVkX2ludHJhPTAgYmZyYW1lcz0zIGJfcHlyYW1pZD0yIGJfYWRhcHQ9MSBiX2JpYXM9MCBkaXJlY3Q9MSB3ZWlnaHRiPTEgb3Blbl9nb3A9MCB3ZWlnaHRwPTIga2V5aW50PTI1MCBrZXlpbnRfbWluPTI1IHNjZW5lY3V0PTQwIGludHJhX3JlZnJlc2g9MCByYz1jcXAgbWJ0cmVlPTAgcXA9MjAgaXBfcmF0aW89MS40MCBwYl9yYXRpbz0xLjMwIGFxPTAAgAAAH59liIQA/39ZEc+lkM9lRkarsHor9ymCAcs2EHPCw0sZHV9dpF6QMzwN3rB5GBkgrlrMx0yCJykmo5kppdlFl/LeJPPjtEmeuKCE56lklQ2PIxtPiwUBTRjdsQDYUPOnwtDyTUi8kGUKBjUFXOFmS37x38xXajKakXqUetqC6anNkwNmySCNIdZ+APe5dZcz277NORT+Toiaa+yUUzzpaWQWwgcuRrBI9KHNV8JvG2EAkYr8s0JksfK4BR5d/VeK+7dTq27sa/IpekRfaez7DgSii9srKsuDLnAATzb0FeM1eSL9qRrxD4vH1RFCFhW0GWtQ6SBZiBME5QW5EQd3C68jr1wcLo2oz+lY15OiLaAROOk4VyiBj1+AQ5wD5bf2+udaZJkIOGddMHhgnk7znyKCF+MG8Pm+8UUEjYEv/Jf/EnQC2SPc2EXxcrmPw4oEqXrnQJIPPY4aAg67qZ0Y1WmHDpYFHgQNTN69Xxpssm9HurdnX5NecfiIDapJgXW2DbXWxhJ3S7jEOMz7jfEh8ouMpRTdYVXleQjFnQ437Y5Fv+cHwjDnKvBSlFsrBt8z4Y1sAdIGfhSnKD44+EZoVeo/qBewNZdOhFH+u4x4bthNSatBPU4hE2InQ5WeGMdLvA6d17z1cKNTeyYsBmZW60bFd9NgM89w/rLisPwOeUrwNQlbjjfE4i98nlC5abPxWNNihOgxXuh3uQPz3565E6VDRsTjDkQk6kXc6YdhS4Y6xgTThPJDHAuHN+9VmKdLHoQ3rOZkFWzF+He7K8UyzWaLySDpgVwXvhYAhf/t7Nq1hGTBmeMnci6PeP9zBAh886OkS61KRcL0c0sDpVrfwt6Dgip3QqtIeFk1MZ/WopPPi5VTcfktc/EcGdssfe59hMIyNt8jY09qiahunsgX3vfB6w3+9c2w5GHtrooziScpHXN1XNHk7NdKtuzFxlwXCYXO/3oa/6zgQiQFjqcoZIHYxlwWNWXRlN01UWSISJFPM4YMGyE9EzWPFOUapNKtGttT5v8TEe7+9mkgkhsjIGQzd7olxxF3AGFDSqseZbqyjDVwHSvBJZ/h7dE9docdnXn7k8NpMwn1+pzEuGh18cr/pzK1zg+l5w2Zz2zzBoo7/5joL0mvIV026Tey6ht+iR02tlQzWv6d/7eXLSbQX7nbTGlDDUfvGzxbq+YPvVrk6A93JnFB1IVvUIdoDVYOC5LGPl4W/57fokFxpkGV5BdkR2SQMLxSK8zgIU8aQawJc5tijslSgXVjSXkPIv6vVqauLBaIewjdW/nNqnVoEo/0xCdSQKyDVFCFe3wxZkN+V648RV/HWkiX2H/zNHh7mECIGfqOIWe+BfllLtwww9OJBnuuttmljqCcJe5visaiNiZxCtbq7QMDzvv8BzDAsxh43JjHIXJ3Jfd5E1bec/IQr1IcWwTi7xvUFPjropP2eoG5/kF8AiQjdaK8IqxZmGqSHd4fpddK33EY/yCb083nlXtqK3HrWAzq/YIp12LyGiIdzgefqsuQF3ludNKYVOzoX2069ZBDzYXQvdRNy7izPvTMbHqtdo2B6pcXqDFIDXgk3xO/lsvrrsQtT/8QEvWCsY+bQ4HfiN3RU5lwAjZYnSU3zcRJ+mhidubMcOqSWlIPsMx34ywyDCh6qRZDU1evjPr30mK/2V0E1Mx/5/+xNhOXD2WTXsjv630nQo8UktxAdVeP9B8uc67Cp327tmuX1ItRh9+xQ6IcpY+SW0n9EnWXgnwtGbTTB8p919hl2Cik1B7JF6s4eqw5qP/r1KqSSHHJdlz55aeEnhAODJNGI+1Hp8Za6Hm6s61OvmXZce1gFY39g8b0K6FzWZhaPy5dRNS/jt/RD+vOjJJmOs/xGvzFLicb37bU++nQEft+4IrMfHWDsuVDR3fThEfhqvyMWhTDG6bCVm7YhFqpWg83yGzyflogAgwORXilJtgVPla9EXx6gg7+X7npaQYcVWJzixnwU0dhXbqMagPDGE41VUgjfSTkVXjNCRge1sYPFuVgthly6US2rx1SZrBxK63H65Iowps8X+bvfR5toZb1Ekoc3brf4ICFTF52DR278DfKGe+AJgOKLv9w/sFxmyIPOIy6fLrAwlJ9laWrZBEntBTKGGI6oXoZhgVSNmt766CZy+qOptTJ3O7lJcVmZY+YcwZ9SZ4P3kkOBifvrL2FHEZFqxK+eETs71Fc6Uqn9akiL/yaxdLeF5rve7YHFQh71PZvv9ij72SHwEJYkVzpARcVmFFjp3uQdgGFW+XP3soXY2ygeMCY8yaQcCFZaliMOtjA4HdDXDJUlo/boTcqsY8RfRgUi1x+eyCMDDZn0nKt8R8QwGuUTgf+6hVJv0ALWW7ANSRUZcXvFS+20WlwtRiKQv7KShZBhuBzVi9+3L4OprqiyWdSFfdrzQHYUdksZQGo3OGBGHodYYb5X2Lxnq78Vmrw2ziveYaIT2iUkmwwhi2nWW9OTUG89FZWfuD+x76Vgjjgs7EWB0VsIfJkK42XtBqhrIQqdEIypRHhpBIU+I6sLhtZ47ayc98azaff0LncVEcTEfE7sWPu2uE/pUacQsr1JdQ7tgp9ADlIM14smy8w52fbWnyiueQ5i0XjimeqpWBs21oGQpA+/tmgsNUEd1BvBG/wv1z7XXQwNl/JGfa27pffnew69HCqvMYgvOdlWpvGoruEZWnKCbXgylKYEo/6QPm/vM4ibZRCdeL2R/hggMBotzDlFb7Ua1QFcFkaFOewn0vXCQEMv41wZzaJsLegwPpcAn1iImLq1yb4Am9gRwtzVme0lvM2gwNSEQ2k+wUsIlkp7mZoMmZNSMQPdMVLzPkjRY71GmXigUMbaA6V/jifpMhRoE1pNabvEPZ6QNdooQdk+9Kg/Hdum1cjCi8PmBbmb9EvCXY6syH+CEBxQDxx9geLIwbepIQ4au5YRF8NlsDEvkvb6J3gahUH4+fj+eWL3Pa6qngSIlDFUyc8pGzyY+Uq/mx1hgHXPuJE8hUv3Q7LO+ZgXdgyLRRgnVcV3fRopL6/ttUyrb/6ok/X++yGywnb/uUcIoyoqLuvh1GPCRsTrRqWejDAGst5DBNnoEbFgDIYZTwJ3yZY15pv4Wqm8ooiOSTJKinRs6GU6Bt0OP5vHdfkC3mm2lLlYubKE1vUJrf0qjYF3RnP6TXg7a6GSoMbEKknkEAgiPWAmE75pyWcHzEMt8C69/1BvUCFo0ES1D5GGag8aaoPi0sIuCk9wi1hSYB96zG1oI+LXCwFpSVwZrfJhXnD1/Ke/tRu0G5CZKHDxVjOZqOWqxsSUJwuxS7ojwWomfvuQuvani+eBEC8f8XEnS0VnZ1t+Kpf/hImK3h0RI+P/zi0dr2QOFaL6ocl6DfUcL2ORF56yiJcuu7orem957kTuNW6t2dXqChuCLqR1Sg/LZUtSYPPbURTTtfGsAJFAXYkjo/ewSA0Jk/odMgVztcTXDRdVaYgdnn+uQkMP5f3pYH2sLRFUflfGUi2feBzlQdnHwOLavyzVbufJoy8Uepq078rwu8xUo33/h9oTMC/h6I6lz8Xz3APSij4PDA531jcY6AHHrpF0c2BdCgC/iviGkTaXWDCdfutmxwQ9wMzZoLRotPerUw17Svf8JML+eEXuEJhIAldfRlyyxNJsp5OxTvoatAavV60y7zdVJBxFTaNAwD99BbKi5Nl7/RO4ptBgCcHn0Wt/YSAOseaFPNBr7Qt64h0W9dR6BEbTGLRUBPVWugoHV+SxjHMpGjCUpQHixXNth/75wzF/Da3LsYQant46OznmwaNFDZmHziZipdYY5EsS9LMCgyduuMCB4ruiOvZFJ2dvs55tODD9MqhvYL9t3tkjEnoQzKJMpc3zy26TfKgEgTzMV2rHb2y/V/zIhLqrD+qib9OVSqv91FNRcB7O91wNe+gn212fw/kVF3DRY2bzgYhyh5qLIAVW8Y7LKirOndVxRrrA6VOTvL+I/bgW2X8O4L1m6gGfT/GO/XB1ckIJgIPuUvcfgQErc4PDLO0Opu4376L6Uu0kpzUlGoHcRn1X+2kkgzOW6JlMl9LZrkuM49HGunSAiBiKhaIQarPzzanNYbmQrvvpujqeUCNeATNs/lvLYGZDJ6aw9kJt7PN2BvPfv6WS72A95MUh6qN24NRFMuN8+iPqvbFlseJTqgimBwAszAs+9CAIHCdGXwgY1kgkTDx/tICpdkyEHXDPJvUyTf4ggKthBLY8AfOYG2QwPgvyz/x6rbENg1GbccJq+cwiqLcq09Im2b0w8TrRLow+tUXUhDtM4zuQmmtpsSY6+Etc0tXfYuPC5tR1holu9OiCFQVCXNuIejhY8o6SlEmiBwqnchbf8cOx2jVGmBEo3xw+ZJPGQPAVyMauS0QxI3xvzj9QvdD2Trrdt2mzK7g0IZZ1PWtdCoQBXPfcXLPFphGG8CoPrU33FQ48BhYpZKfLMW6hjcUl22Tn4jZUBLU4PFtYVDTXMB2Idg6ybwaHcfJq/5whKZSl8/x+HQyd5WUJFkyfVDE/o539klProE0KR0dZlr5PL4e7Ofv4CuxKsNhcLLcanPQTe6NBpZ++upWImdsREuxb1UbLXXjKoMNxZTxM7TjUh0XJvUBABcRIW6ZpAaX2yvRtnH0VwoDvYqwqfBwe+iclxnTLilH/xFcM1SsdO4m2I5qLCvnGg7jDTSOk0gfHL9LnRYKaDPp1cBH7mQ3G8WTJx8z+rXrIos7xDZ0Q3UrrqFI/3Q4/KWM54NavHbm/GcQDDmV3Wnst9xb1Ll+YpJXfLmtAA/9Ov2bdfd/I8u6hl2TZ/3GcuR4/hcRM7FtvD9gJt5OfpvDo1XWNhN8PQsZ3rlgigdUhO06/gFOeuFlEeOEvbvQzQt441Vv67M/B1vWpPxAUas3VWqoJIj07WMyCi9w77RsI8p7I7Gv9ySpsYR4sXBA9flfXSvkf9mDWPynXa1FaO4obUKGQyIj6z6GZrNQEIhdn2kDIusj9RAtO6QVOTUXGAY9PBxk9csqsKZyI4HV9OKFFJk8jsIYe/HC5xcBoyGnbd+O8j/Lut08Q50rK55ZYSrFQPyzWkC3gl+sqn3a0XbreRvBSlMQf6TTEzv+g78NySD3pctcg3Weg5Ucz/kegpe6zAIRwyjG9ms0YtieYBOZJfiE8dhyG1VZetZVnZqm1rvmGiCvCZO+tx4Ax0DtYayr/HheReqwhNE04koI7LaTn46B772FBh1KDITN2nguxuOrztSUO3IYvtzgXukbhitfJg/goIMMtCPIJK43KPa2m5W1oRmGQXdjiA4lzYXF6M4zTrjuS/qEhQW4ptNCag5WnMFWlYYBObdADKaY45d0qoYhbRXcnisePiiCY/aQc/BX4aTRsffJCE6m01QXz6pqkqYmmY7hD425KZ8vEmP8rrWq3pBEle77AU539wNsPV7sDxMypxcRDDlToJGOf1Y2s6wttrDN8dUV5vAtxqPhkPz+3HeGAx2dSZ7JfQwZUrmaSGksqM+c9KovI8QRMvRtRkgeJp3Osx5Z7dYC66U23MI70pmkl1mVDjxwfu7bfMSpmUVDTnO/59n5g9NhpYHzfS/E0wGNBRodTLT5NQNjRtE0qBShfQotOX0VUXZnPRewsDnHCIWLlCPmHxIfPPHZSfkAZHpUHqBKIhKrpjfKbp4ga5AiwiSncvGs+EMGgah4c9y/HEU+DUH5FzFLSgmveMVv1VAgwcHJPfe1SSfSk57gF3cweUWjpCWCEK81IAYo8sB6Yr0/zyVU1VruDTgk5ko1w6CVVtAHSM2LExArpW5zsTe6DK/aLmV6C3INvc2W2IvhAXq+EyPCNOUuTKdbQB5/4GRl524cnV/wGZS7DK9U9AY+uezm7ssiocXWr567eRug25g7oUV90GAPEMW1R6MOJenzDMIJk3LFgB1R0avq85E5LgqHFtqTCNFDWkQpvv/2DFc2l+SW7qkuef0AkARwTQ6QIHgrQErrIhfFyt36o0QrByPag86AX1jc9yy5dC0yVlOEzRhkg4uSBbUPgBKNA0C458GIm04dtjx1BG/DOTyqWQlY/0yYo/9SiDnYbR7MCvZJY2gc7Ko2FKkLsyiZFbv0R2KagM86wgHJDa/TePLa0wrtXXuJIU7j3i73LItURbKMEmMOMxT1PQ46FlWHwsav47xnTIAnw6r3PPekZSglkfhRb9mZ3kOeoDPrSpM/3ImbvTB6uohdbPijgofX4FPro7WL6DWCTuD1a95Ub4khl3q90VglBajym3F/7ekPunk/RqLXsyyQTbiiyPChePZdAa73YS//+MyqShCAuhJ5NCB4sX3RUZHOjfPmDNImd6HsqKU/G8oIuVIgH8tU0Urm9Ov+llD5/GwXZDeyWwYfGYXZJRo5e6kB5yW1xNyGEKh+uJ9dsFuqlxNnJXhwhRP1XE7szvsoLVdMZA9BxN4M0IzTFe8CmWbaZx6XTOx93QEA65MUW+jsYoKQIPH42wP8DQvkKT0bFE7bF/FvuZkyTVvgtnI4PW+8ps5LCSPGLHU8Akn4eIcZywSfv4Gg3Q65a1MpILW+GnY2xXg853JsRqA5+sYN8Vu2/Caa5pCv8fKrqFtktG0R29Toz7qVV8Z14IpwHAlzDd8WCFm+38obPyxu/neSbl0kO/sPG/QAUBY/N4VngRir7oC4B6OLLyFITJZUFOF6O3/UfDgWDRulUdF0SZPpThuLe85YmyvPc/zkco4tdv+qhILHQs9OSSkHYl2plvpgtICa+85MsZp4xVWdbnysShNJ7dH1bsKTCMtm2gy6a48m1OHZMwQeTt0NP5rreR7DNsRAUSwj7AADTKJ+VoPd+POlwbPHBivaw211MafCZ3uMU3G4zeQkz7ex+LwtQ4+W3WkYQWDB4w0ngV3x+N6uYc6Q3Sb2TDTrWDiVmrE00GHpxSXCHBvmkqx/WsQM1xh2c8BExAJmnY7p5gpOQtTb2ZK2qAC0RcEOhdpHMITTyg9ccvphAEiMZ6gxsMiXi4PXZl5r93wABbd1CSO3AF7PxZ68IqmWXfPBvfuy1ECLbWzFKpEWRNeevbj+zXhuSiQyYlom/CGAsXpr5w7cYgscm9ysdZE6LfjqsS4tbGcdSvQDiW8NJrMiwEh0tZlvMG/6YQoo4Fy0APkLTwLD8ruC7WUc3wUmVwJ03vCkgrscUFit/Y3y1ehaiQTDt7dBIA5pf1KteDg6TC9a2/ixxtNbybiGfl9LwDagophhdPME32L+SsqAYeXPMkdXC4lqHSmNSgziaPz2UWdzqsrTsaIcrb9JAywypPi2q9gWzrsUYQL2/jd3wZIFxPv39PGj5EhdEwNGbBMkVf/8sz1IQijHIot1WXgAPuyeuOPbaBKtDpEhKVAt6Nk5pnzyfszqKCrU8bU1lG4CHOn57VwxF1BTb7bC3Zbs/5QiCl3aXvevhpa2tkL1WbOXx6GcFf//ddanKcyMv0W5Md585idrpg9IkFL0rp/V2iu9ySqNRd8x6MrzQ5LpiOGpdNvTG3gv5rtz4G1ZhVXnT6oenTsvIEManwb6fR30GV8Z6trnVVFBcf4fg+fPydkOFkjSnMgz0MK08rag7lP3M7Emad6rd/J+uDyBUif5i9rCpZdU07/O7ptwSKLtALT6I6rrTnD3oFiZ9KjYqLBsGFpqzTxwu8lG8Wu4+H4zZQbpa+xvewBx1CZVhNIg0JCIUxod6MA5oqdSnmmitkkkWToB7bwxKM6isq8daNLCznBjRAcIUcS9uSRcq+fzWmoZjY9EPEWzWvjaOiVov7Ww/J6Q+PaRw00B62TievFoTY0p0bfpeGL8egAhdTDqj6dJG9pKiUCTda8H2KnVhL7+/Sl8v6V+9KnQYGKLanepQ062S5PpkEqVwZy+KLgGgtw4Q/an7XAnsj9t3ILCyWbmwzqfRy8yszH53UE0PgzngTAO8vyfbgiPLL0TnnFf3rELEKQcGo1KzJBC6Ss/59gCVMFQ0370LqcurPznd8BoGcqlCA7wSh/U79laNkLlNriRohsum/b8aswkKGxLP2cqgngL8RsNfep1mvM2ilk97SSVw/mzw+mTRKTv1+nO3UZyA4edAj9BZeTvuiLz0fhFcyGzGMhzRPoIcxEI8V1d01kGxTDAOICCC4i21ZgpeqqDtdvoLgr6fX2XWamSbCCK9GWjD2ll2vdYxXmfAs0/+sACln/9WZDBpE6s4fP9uoNzD0frHIjx9TZ9SMnbEf9uJYiYWdo3cNlB6LNLqcO7jBmGvDXVofIMT0QTvFvQNEFR1T6YHBdeMBKYSi47l+RDu/MUcwSnmfF4z5yKMCuVfScseN/eCsKZNUKQv7ikmNu0wTnp8jI7j1WPXM1PQgBsHHp7ykw9qremYH2fLbgNFsfsuXjIPmD3wIPyd45gR+Fjp/FtvC2lX3kIBJf515Mbh6JDYxHRlYKUcINIFnIGBmKKavu2ievv67GyU/sidkWQihyy5RUBgl6XQbIWNhWJkoGOe5niD5XMzIF6kIrbWIXMP8YmGwLW7tXo+FAdq4XtEDCMKGhD+Bn+amPgXi1aFAATVsb6P+DQYrVC4jCndXlr0gfEnenbk+BuNn43taHwEanDg0iRa2/7QcIjlea7xRtcRf/iiCDMYNMBIwplBPdG7TAYRe1lcDYsl2ffTPpFjPTJbIM+HQEcJPrvm0DmhxxF7sOnkxq0iDfZfiiaxEyrzapmbGz2NtJW7oMKXj2eMkSqQEBnalWHxjNf8BlddH+VjFfrfxzGS1tpZulUOGsMM7jk96Lfc7gvOcjeUB7pN+5yekxNYLJ0eI4RC/xkc1UGcgZoFFsK+9nLUDz97SqOMEsg/eSNouOVmVhA3pe1xRAqxEzNyJIb9ewrHI7CYqe9d5pCAi3Nix0kgiOwrvP+3hf96QK35DXK2bQv6ky1x3mfAMOQCQr3udei0OQmSoOiFUDry9JpE1mQ2n4nbK5Ye7kVGHFLqK+5iKI5Hldl85pNIbyJOkQkAujmb5LDoBFbtEaW14I/lE01CvQOwYlgWBgI/59OY0IfEXgLcn3W1jMgtl/SGMxM0MfqiIUkUbLIgSFwrkXYYvyB26p+o5HfCGD6NvcafZeXI6jB9jX/gEy8s8hX3llJJr9RcyqpXtIt/n4m2tSsIFxdkDjauxaDPhJLqoroYlpAqFkhLVM17XLID++uf1wA+j0QT7g1dmzcETnFtrLIs4Z0vKT0rbolXT2cpRtu1coHn3cQpJ8aZKPSGXgAZbRcBd31KE8T4u4h/dUnxRVu+bAygStaloizo/iC4e1F0IssGnYGiEYZXBlQowUW2lEoOqBfW8jgo0JM55w/8ZtzywlTtg5vdz1DQ3pHLE6nxwR/7XRuCCuinAnWosHcuvqMI8lW9U5hABmvEoJFPcKbJNg5QylLKjOGuqqkLSsoccCMk8nixs94fen4Zwe5/XRc58j74OmyvGHhD4mmoq3aLeKZa8dhex/mhXIcIFP6KYHO/RFD0VT0BSj2EY0jqdm5TR7uvpPRXrSFyBCr1cW1q0RVzsSEds6QkgFCedg0JpTvtED/wzayxaemAcuVKjZQE7GW88vjP3IzOZ3lQ8BtcL+WfJ//bEDpW35og/EVyWUl3ETAH2DTOm81ymFAOG2P4GlrghxtHUC7hQWa/ARwAmODf29WEGeYGVljf69zsacEdwcm+gMexLwxDLeudvObgE5zKJB4qpzfwLGCaoL8DaBjso1PifoD3HewefTdbipArVzgOuwTmoRTu0gNG5VXUinS4znaRqu116qTayMbiARZnFeevblM3jFGxGSxlkXy+cX41W8Y8uV2qFuPkKLptW4tWGeKNUkgce2n1qRS6qCNsJzPQpZuvrUXjhJNKz4b6b4VAwltzd++MbX7gt78lc9oeCu/Q6hphdv3gjl8Fx2f00JsnF0jXoZK6ri7qax2GfdvMx8TFkZE6I+9zUIZNvZyOvfzvoFAG0CtW9anU58z22xpsNZ7pQZSCMP/Ma5RyvuOf333Ff+q6r2/v1am9o7YxPr5IlD5J47cXjFNhA2eGeG1OLwkFVIcPCZDVAg5C5qFeccnvgzczfnI1Fd2C5PHAlXBCDfjRlcS4yK5T2L8knIsOzk5guON+mOTpcvZnCrvts0JkEp9BaYyKq9aJl9dIhCnEGqq1vI7zrBImrfx8z1OvrLQB7yXE2XBSoU8uCvPo29DxY0+KSyzXlEy5mkuFOonMjD976OSc+EL6asWHQW5/x2on5742tzhxzvpAZP/0JVSCoMcAWGjgaJcWODfy+0C5v/FPgmzQFNMhqnVki+t35wb8UwhJlGMqNl+FLXra4hEWHswQIRWBC8/OvPK7igzaQ+Hg7oW0RZ6AtQ9hD9tPPGWOPo6PqnWUBIZKnQPD4eQqsdLQhhVpmtukz/aBnqLH9CW9UV+r6AvWUM08PX9w+oCCRToHJHY52hbcDBYm+iySW7Ob2DeM4KrE6EKI9K3VrZ9wpRwh+997Khpnls635Dr4GBkakrDmEfsSAZsLNYeWhDyPzsRvEac3Nfet1qwkmAzmM7H9emxMRV39S71bb+gJkksdt1dS6MAwrc0FZquY+jNhAaPYzkbEYsFp4WPI2toTLjg7F/wptEgr2qqvkCQXJk0VoV2wI7ja7XXzihnhdV8duwmi2rbpDza/HGohaDKtYHHCn88Ya/YxCYjGFx3F3Xpuj5C8lpe77/OkOVZeLbHSJRTH8AStjG/q3eK8yzC+mXsCp9+R8JYJ27i6IBUaIkXzkIIBvjUBgahBH7OpTYnkFTrAAAFZUGaJGx/5Fdrv+ZsJkaddNIA/KgqlMYjh7bPfUgXoA6/arWQvygjAkpEX3Xq9md2Q39OsRjizFOnn68vwrxx7EXh7dD6e8nfDaMMa6NLsQGrkHAzBmHesjMBq5zTYeDMZcde5mpgGOYQp0Ei6xP7w7lSrO2E1hRMpWhbopr7h1Zn8fiz9rsDnmcC4FCkPFYCX8pNfGrMN1kf6paRPDdNYH9VmX5vfqd7LZI6Ufuo1y9Ruusia2JvWBhh2WIcfQd/VG0JhTHAEKRW38qQVxABxHoUvxW6qyXV0+UZIokuk0L7hmQBlmQkaFCnELEzJjIC2ndELCiL+x0JAc8hIub6rfRnUuPEd1y5RtbEGFpdWMHPO6tgvrSCQmIkcRa+c8xvgTBtdCdkdWsMhgOfALcEmHD27sHwyeJ+7fNeYdkTq+CzFQ3oB0WNyBoWxeaOWFrRH+sF2SuTQpyDvVatQdCLh42NB8KQ6RccA9WLms4N+SoaeuL7YvRzlMOxuSRZz+kUaSrzrUr2V3xx7+L3VndRUVN/v64mSiqo7vnNvDyx0AGgeu6oAw3lPs5z0VVz8KWESvpHG4gXxJT9/0O2xjzVXAxFQA0F2PmyFA36ZVQaRG7H2N2pV4QNmUGatVU8Ybsfs8likPtyR5GkmT8Jdzj+3FXmxLAxpW1BShJJHhaeoJomXXUs9KOL3XLXBI4X9ovNZGhjCEtiq5iRRmyLp6mES7t6OtcCHYh7xKsGwII3XZnIn2LyxTagG6TkKX1lCSh+VXXrZl0mpKY5bD9GI3G9TG92Vdj51nDk9Dq4oV4am2at5CAqkIq0UsZlNo/BafiSPmyINTGW+jekSQgY7PgZLXXf1WUR4CuNqsHkEoMyIe/xM3wAx/lP95kNSPZPW/i4CLwqBA72NwNAx87BpjI2PHYBTgbwd50dvddfFN9n2cK0cll5uGtBFhcfrJwyNhIcFYgGYoVT0KIXmEeV3MgZjyslmaDOLW9aiZX1V9b3AeemBm3UAadbasBCHZNdgrCYFu7ZFrQEQn2vJUZwC3oL8sQAxvMA7ZF2A0DghA/cGVASB8I9wA/QEjlXKqHQxdWv6vde3tLwNQloZKOXdOodSN0PcrXud18PNZp6KC5Wf/Ov46tYpI0qVe8mc0xb9IrA7CJxu19FzGw7wQVdqgWYeIOsMcyO1Yeu1NR5VK3BAleNnWVLDBy3yK+FK7mx/+15QpC0o27RgA126Ja7irxFBrXZtzpGEIfKdy+ux1syr73w5pJXQcwsF5BoP3VQ83rjOtR+fJ+sU+4WXLGov9yVTMwhdrBQg0xNj0v2CEEG7KZ6mOSYB0iRvAErPDnZPN4BytiBdCuwdyN2kd0Vz9iA+boD2AfBvnZd4jFM4Ea7APF2uXpNBO8eeyUmNb/J9C061AJkf9t+xAVsEzG2XXfomPdG8L5SDyXMKWGWf7DJHvmHmG/A0D7iS99OBEhpfn7JdGlxyZbZqLfna1XOHvx1hzWvVDf38l+gClK0wtUfFUDvYY+6sHioJghEMUcT/LKGGjilSwlc1AqnovC8/P0eBqLhjDIiNNi8Vw2AUnq3u4cGJZ7QGx+1UHz64NqJegeCMEOdWs65IRL5Jxgp1QSJDltnOAYrcljwH+0NrJX4CgaHUwGcen4+6Z08RDkytWmw8l2rvwchB1M6FaELF84C06rHOaMjQ0JlJe7QOwFEoxd7xXOgOko+0zA9BLmK7FAtToopgSGQxMlEWrAxDBehUYQ8RNfZLd8tgduszO7Bts6XOfy/Ecyokl0BSMcM6754e5ykr2EgInx0sXCLnIIIXDu37jtybXG5Shncesb/tlEblSM2bLgAAAM3QZ5CeK8Dv1WI5W38FXtuHbSQixf3G+xvLyb2ClrNNRWgpUb2uD32c9qE8H59d3epv5GUSFDHZZIzPT9SZKrcUf0L5FTtBt6+cRPE87oKvT1BsXfc7E+JV/PPoxporx9YAEm6078QatHNC3GY+7kFX7srmCSQEorznpvzk/sjJWdXJ+U3FjQPFDgsKqGbDjapZSBmV1Aonn02mk4R09thoUDF7t7v9USacFXK5IK/CR8hrcObtyynboDuO1ANmmzFJzNodVSOh45UdTBuMvqbR0H9FGCXGdHeROgwyvthhDXnk/toTzaqXMxi1M+rNMX+i3mBgVMAUsRHbiHe76qEbHgFbdmWeFo5UbIHW5LAJVBe4LDYKaqnM4OiRgZHVRI0zPZPmSu5qYw5WrJZwvvJ9PXWJb5Wcz4XW0E+mbdlc88G4qPa+MLVRQRkYEHvOh5hTlB5yuX5+ExTA/Ea4uEYLb5xGppdhZYit5i2B77MZx4q5I5My9emvGAsEY3pwteVMQqt3JJS4CEtdnzRKxDMVM8nOENH1hI8I+nGXABKq2cL/92rbTpoO61XBYXzo/a0qgst5EZMh0SeqWVakyIU+VJKZg8RGALeQZ/jy+oQ1ZVdju+9TJLy3a+3w33CxxOUqo5WWVLYPb9fmUkJxiRX+6PiSrwVacJdUQJC+PKVXrFRtgpsexbuBlqN+Z47bNdSvtoBYrWd0nrjPrLs02WF6jEivkiurD8Yq5BESsJTJShibAqWeOa5NsAZ5GB74QM+/IqorLB3TNzepOFUHpZTQYTY4sUEDzUmpIUehu35CkBtVzywtRGBH02VY3NDwYlfYVIgZefnAX6lpVbQTrPJ8EOw1Z5HLb/1v9nBZwsFfEsaSJRrI5B+ZXuN1CsdvLDbyVnijELFkX46zdtowiEv45SD5eYMmg5EGjS5DQm4trEBoNBtgxeBuxqQxCM13rPCGxtxepAnaHoeodiheXd6gRpRfY09ApI+hZW0ly9jueVgn7PLAQ47uHbRjqqIwcOZ/z0Y439wWKMk0y2ysOzoisw7NvBBvT4EZm4kZEUeNFb4XJjjBbxnolzZt4oFMLdeAq4c/QC6QQAAAgUBnmF0Sf8EdwYfWU05BBEVT3tnU8Kd9mVNGcDfI8TpufAB2MtEEHTSkuBdHdKlK8P8/mVtsBg4/4mySrqpXeqO9o/KckvU54yrv1c5Jlz6DD4RTvef+KSMAWkplX3mpUnF45+HfadRQeVW8X8Jxp7R7lzZK7/DbTLquXiNzpLEyNNYKyAmBF8SSFx4IHq1gMpVMmsHKHjvC8UfethJulkEiORNRcmjWxybx9qOGdg+cYHZWJYNu+fXevxpYFYUDb3oFKVIXw2ENkgJI+DhRWMLPKcNhCB/p+IVSOIUKiBs3yJSlpq7K6lpmrV0wA128Tzr60y6Y4hWSSXomlNKxHCWIk9UwIhtmdztLKDNRP5djwrDyLU93EzC0BBLH40n/XmaNF43sBfTheY2Vd+w2F1xlpV4r1nVGg6UMh6wua8b/cZUxj7k53o6vUKOKk19qaAcjNmEfsUE1Nj6QSQrNlGJJKE5SsEIvvnl6JIhH4bgRBIGVcx5E7rt5Iawr1R8Y52o60LHiJLTrrjLcecHyffA011Ne3SyIsB9CvzAaGkuzJkC9R6vHkCBFuqLdQSdXRTRA43CvF5wb5OtAFaxin9h515k538yYWHOStI1DE+ARD6L9bbFzQpDNIE86FrYMJ7TmInK9/tIkXHgb42I4WrTga+yQ3Mh79yGRJ4LO1tmOfvlv6eAAAACvQGeY2pJ/wRniAudZyNz7FeTypmspu/MvdlRymaaQomhAJK6v7qOQylEjamf1YDcetOam+f31er2ANQmz+5x/jfEYCQq7yb0Ts/TS8yXbQCa+X8+kd0iux0D3wt1xBzT4Doso5BFY+5a4Av1q2Tzm42STk5VDOdRylEnYSNccVSNxLiMGncAcrk3kMGbpnkjwAeGrLT0EJu1T0ZF5fakrKRNmIAC1WB+qtNL0PUEJkocngsHq+l/pKDRW/TLqFrCWpsPSCVqwBwoWGAX5PFiSINSrqCqClqnz3qgp4f9SQso7+Z6bHYuzL+PvZ8AQ391WXETlHTZPXQjw56gI52XYooqBhnFSRz5H2ZQrzv0dpnJFNARCnddhgzbCEPcKFpI6cBq5wtRr6K3NZqOCSyfVJ1VAhGHoRT7XYseYUl2MZV4MINZLUy1K2LDhbR34EnRDmSjMVpE+LAcWX095Gpy4blnFJCU67Xtixwd5zMkysapaliS8qeQp4hkZEDSGZFlfsUfgjQhvct/+WdqpuYKzHTql2yad6icGDcC9OzMiCpfxg5dlKToFS0ldG0AVffr1thInneAYHqsR2KzC9ybRCVc3KtOqIPYzVNmXn5P3P4+di2OE9MrC0no5axgz85HT6mNIWy9imruhVRAX1eP//I1E81PK/nbWfDvXUj5GbIp98gezmwEzomNCnlWNelChsgiqrha2UokQaCZgJGAfLdnA24mZ81ARcK9dSTUWQkoDMqyKxPGN2JUBJeGmfS+xL7asVG60HRGRJaY55Gc5MbcF3OJpUZ/iPxREa2l3XjeEeXCpw/cadMPLCs1SCnoSLHWZpMjfiJfYB/Z6WLaoj3rmeLr7v9d9sWoFKdX5M4CTZYNqxa16DeWiWjzcAhvbHmCCz/0sCgMXiPeEL4MuUkcktLHyBU/V1O0GDDBAAAFC0GaaEmoQWiZTA//5EAGSHSK6QnwqBdqLRcFaL/Z8fpBNK4GiHPgkSNh+HcOqcBELtelJ07gzbv2RjLwcYbTIPZ2N1dvz62jyN2h/HOdpm88rRTQ++9mmRZ4zJ/FEGbBa2aklMGpvsdMsFQykojY98CqAQdvzsuniBXacHi4xvZaCs2L2PTnc75CT8bQn+5QgEHZyx8I5eN44w0T5PTi7bapHUbX9SMhiMEvQgxB3P/VQchZ2pk3AFT6/t50MamLmHsifMxn/C1hvPc8hwn7mrZGjPc3WfZJ+t1DSW5PvxggisrunEUA5srQ1+4fpPthP0vYS8GHyYaf4XkaDAreUwyM+Vxocx4MiUAC3COPe0iLX7dGPxfCsOZt2q/8QFsL9EodnT/gn3mWmdNq3i1YFCoiwz2LyxVr/OjSIyVog9kHToweZDO9+eufUWiYWQ+f08WmdYuNcAKMSWLNoVIUDPH7Y8IelDiL9HvYPN2vrpOdr81Qr7CRTg3V7wtIpagLIwlNX0ZZzHR5skbr756vqLL+6z8uMUGoiK4stAWBhzRIfALlq7oY4PBzIlbOd7YBjAgEzXy1LONPyCN4tizAa6aDeoV+i0BJhwzx9BmZMkRpjzCM5/DUFu1oJAQvvmlBeN6wJuC6+EezLv/5gKR7jxoqoQpPvmixSHzg5HVyitz2TUL+Q0XWAAGbgkyKw24zuIA18ZYiPMEeOV75FHGXDOcExGxTAIX5dtEClIJfU0LKDrdF309s2rPvXS2AzMGJBHc6PiZHGtnbvHI/gvWsceBsRpxwLzhQVUoGVrPR05/+15e+eokmzQLLQJ0tj76LESdxXWKvncBnFkSX6u66D0/IADLouaKyn57F7TEhSM5OfuUsDJNVGMIz9sTUCw7Ol5J83KdBGMkpmFcWHGBjQ6btM2odXGjNCVSw4KxQ2/Pdtj6HwbJGgomyuEK3MyHmBEGMgsQOLjgyBGF3UtUc12w9tFCdPbtKbnWl92UAO4uEIWsMfajIQ2pNMxLwg6yOJppIOEskcQUZ3Ny9xavN5my5RbUJKF31jznKW6Gicu8M1nUDoIgUBV8Gm47D6OdwBETyfP9aGYOsPW1zXFCsaauktn/06TKwX5VGC2l47Sj97eMA20xwLaE+TNKBVm/XuOti9MXSP3FllaGps+2jJhzPCz7LDlBaunpuCrl0kLc46+42rgMMzvsdTyWyATSprVSXj+ntgNBTFtfM4uB1g6CIMcbE8lPiQhsrUXg9Npg9XoAJcIQ5STioOonnaz0L2k/bhexpmwEbeL/d36DouQbtPt4pFvj2fzf6P5KKBHxLhMpcKmmMWw8qCcA89Ve+nyExkebNQVBuQlBQtgzeBWwtpxgQbAq1SjHGKe35+OWC+ljIxP1WApLXcpCVQpHMOZVEhhdFk8gbdjNJCkpRM4WxNJwSISLwopevpaByQdWBnPObrsuyeuODAgi2gh6WkNOeW7q7KBYWIFgorWPtuYe41exL+5QQapPsqsSyocH2js38R6wCFVMP/0vFooA6BYxE8u5zDhdlgfYXnZLPQ+2oOTO3KPpD2P9vyzWjiU7zn7TvP8c9JNuOOmgwnZ2VfERLopmfQ45bRX3BRfJQ08Wp7VDDOsc5HWkpCRAlNgRlEm1sx08iI5eXmUjA1hShl8tPOvagV0vFbXIFJuIfcg6HnsekNCwm9xZjz1c/DmfwQ7Zig3d+e36ZFOkAAAQ9QZ6GRREtfwJaVhs+vcXpBpbkRLcovNWWJolB29hay9gDUNi78LxIX+1woe3G5SoGsft+CbmOcHfRDuKACpkx8Q5KwAAofUI4cphnBARHB51o/cJJ0xvKT60qExXcQMheI/5VEMs5z0s74X15dRNgslWDDAmFl0p0VoMuponpOh2NSNSyGA1Q50aXWNIGnJHCMfviNdGJt6eDYD1aM4VXmOvrrsgGe7PXuSJhDhne7txmT+tuMwAT/8g7iKfdjt5SymfrY+z5gokXLiOp18O65kHmRvv96zHGtbpX8wySeu7qKFHAx4fmtiT7JvTXSR0uwcv65oWTVxPyHKKKtjNUYafljaZCeRDXPCIvW3y/BuZB5LOKRToCK5q2NIwfYbynG9Z5558yoBvlQ5NLBr5eR8VBu0EYvB4XxUm0uFJiMQApcsiLtg69PQttT1iMiFEj4BOld3hfXZ0VtyVQ2lrEMtORXTL2Su9vN+MlGQAG8uHBuOTDyuV8AXL6LsaldAtg1ZObZY37OLLIkKU1OLBNUioyAzKAC/CWmIOWaweoTOCoxXu6q8i/yZbZzt4XHk/qi0pHHsnv1WsqwtyLIAuF1cQfQ25Fxms1V6Reh0yVikXXsPS+qn/CVU2nrQrG8vFOAd02T0CX8l53M56YZ9Dpjz/5tA3IVjQiFFxGEMgpWxPJ44bOhExT/G+mANQCAWmRnxr7tNYoMONQ4DAFPEVampuwISkkQtRsKhS9tw0E3ZhuyjZYweK9pzoIsbdR62pyOQnEGgUIeSrFq0SGzxykpAjp60NNW2CCw9+K4iR94ta7JueO4W7rmgmTWST3mn7psUSgwEcV8jeEDzJifrJZIUOkCLeixCiC/GnPZ7Kwy84I6RYiyREkP4fSYnJUl4nEkbOGh4QO5wBis/SyVzQu9qtabj+zd/wySklnXi7uxOsSWPEBlyX6jiYEt1WNAslFAKiE/+263JwIg4S4Pwfilb3NGiPo3t/0gyU+r1o9NG1lpEb1J0atbG9dDw7Qp9N8nNGJZSJeManNYF/oBhZMuxMOjGftpNnyee9tT2Rg480gMjgi58iUVAWIK1LXURi9G0b5gm/7RZFd1+yTJxSaR8ZkIxGxgfj4BBF6ZUmuSNLm1YRZBN2EnS1rqJ+VZoVupHTWiTSglKCnVpn8utQwTkV66kPUmMdTNhbO/BWR+AwdwKa3KsowtkGg6fjdXQs9wSeu+a57vjQMNM+th/Wddh/MMKu7z5FXX7oL4QYO2kl6XJtjoyqYU+oJuSohjE1ERdmJ/ZDtDIMH41R40m7ShYwRjhZzRFoYloHtBzscJfdrhL3d60mdHuQFoSkteC6rBuGjESxSIToU8zQf1vXrt+oCEdmXrk51rTKiJfTSCAe7s/C/Hb60yE6Dr8ZtoXtuHeA3xge941LdcMje258cLMXQNLuKLEddJRod0yEAAAMbAZ6ldEn/AseuDKmbGHofhvfbC5gvC0OQtpp5/BQExEQ+PsY2aNHROsn066PpGhdrNJlPzEppHjDG7rll6ScCR4b/xxoddcV4IikwG4Tg/i0Qd8Wg6NPpki4xLTCRpHh3pJC8Ds5X+45u3CpBPsk9yBs47yQu5N87vzB6nXNuwsQKu9E2oGpuWqOC/nySTyjMg65TAYcEGsYMZCW6ZUAZZI3TvfymBibrGgMyPamMOeyP9YpRUmy3MN5gmbprF4pqRqtrP60rnRo7uCmx0a/6w8UqHC6xRi3CAvn2EjZUwc19hck2szCcB291k2H6oYlZr5HmtB7+7RSK4gZX2kzxktkISwuxel+n1alzJUh7WodxjeKmrV/bLxIztPTpSTpbu/i7xUkqbGYZFU4B3iekfgaj9gzyE3vzRmRCnWaXN7p0RKzB2EaIXdZxayJasHcJobQbPeHUn0Sipp7xrloyBBlIXSvw6FroKUOUDUrxUq7B9YxJsfykubcARtoTSmjYvOpVGk7M5apNyQAAMmPpllIMS2Assc/cIY9qzV0fg6FWaSVVxtjS4TWNIwkeNe5ISlcEqtZp6rR0P4B1k+VMPsor5gLZqayYb4ZFDUGgtXP4wL/vaNNLGAuKnwGKiuochX8d8ZKSuYfbI8XBQo1fUIuJVR+VvZxqLQnysiF5bTprV04c3D94M10tooYKR0ZGEZahk58ENN1ym5JA04rS6XKVaZiaXSLs0FX6sLnwqmDT4DEgoKMlOV0b7phH4295mv3IfsKzWEOeKYboATAUbVpKI5GHCXiKvPftpHYdN9uTnbHZkF/zfRLVy5Lycr6CrPK2eaIdwBk0PvK8MOo6mRslH0xboa/4Tikvoe+bXXuEFbyL0Ol3AAxH5yco9QTvLfild8OM1QWh7riKHR+wtd9B065DNXejbu/FLqNiJmAJPGop9qet5AXkq/G3Mr9bHBynwxeHE9hBch3A6VdstbY/KX+YAIG8QPfjmzp6rSE2RIpTJ+vSRGs8GJwQtTGFF2MIzcFBNEzecWTaYokLkGetgbA82rvEz5fNAAABSQGep2pJ/wLE59XtkEKNtzYewp454DyNeL7zCfwaJ94tpaW8iENosB3gBjVtLCf+BlBXK7Ia0X/Dn+touL214jARRoF0ku/KdSTYUuENQiCNNc58hEwIpVMoJswyyx8s0UuJsuob/GTystVmRylrnJTxvJl5xYO8q6Ao+wscA0hZLhUWhf6Su/KYFrXhYIqam8Y5Lb5QDrkE2esIEpIogzwYlYogi1YvDZJPPsEwF7undw59lpox2K1TEks1nq6/xi2FYfXFu4fcHwHGb87YyDiVtGSTFFs9bTAlMXor/ATh8FfRsT5LxML7VKnNmSpOyjGbFpxEpRzlyEUchIpXzx+Cxy1t/hWWjbrzN/3vMiwF215+GL5Pm2W+IkjTQ7ih+7Asp1ZWz08pVsthI11mk/P93KiLGdxSBRUbhGP92d6WMYHM0G5EzRjoAAADHUGarEmoQWyZTA//5EAGTfBOF58/4I81H9bdG/QV49i4cZ1HonddqnsL/1xpr+7e9fx57AsUx82Zm+pyT+i4DoEWZpN7VDakp51OnrJPHX/BVXhkboU+M0lZG5rDDTeFxxUjt6rrbXJxzeJEishqsyfwg5l/oUgaO0mtB1IwDtVQ6jYUKdJw7oBYvk9U7t/LY8WLpEJ3tzr/aQfaic5/1Rk9Oa32zpaKzB4cqJ6Sr2gnRfwXJMbsYrv4F5RyJI7ingDp+7sbzdfy5zPZDSOu8NYqc1Jz87SDON3ugZZVr+qUs7ZSkUPuY3ACmQXjqkwl3sefkGBg3dqrBHLqOV/DcL+5U8PeDe88MZi5Cn5tAS8XHQ2gIBqgBWQvEXjN3nuUDt66eZF8reqwz7Xks9bl0c9Aq8unxRK7EJ+uAdYLzH7Q4X0u+N4FvxzpTioAecT3s+3OiJBCuatPkLiXnCaD8W8PNwVW7OaurykrYo00FGzWtoV5qDEy5c+01fSCrlwRP3ZqpmXEy40qpKkuBJ02BXuCLK2SLVKLKWldSduCjcjR1xr3378pg7U7AP1dWSSPUT1p4zCU0uYKkxIbD2keZBqWyg7ubyKmxAQN5nOlPpnoyTfAgrp8gDYdb54W0hJdbDVnnVcgOK3V60WQt5+yhnMW8Cu+nHQXR43YqC5/zg66jbAm05eqn0LZXFModsAaJ4EZmlJzXW2o2QJc3Vrnz6iNh6l1YbhB2zr0vFt8YWeAVSNAzwEyNajg/k0F70m0YqPBvKZf/zeX64CX4BQhJy0j/iuvfBQDaK2konoKE8wehk8EFZ2hj3L7tD9bEl1fLMt5cftEJymejhoXOUU3OjB0WH647RugjOMRkbNAteUviCsSSZyY/IhD+a66xPd7aOr0W/WPNxwtzpLhpE/EuKDwVmRS9U9asTyTjsySk6uSFG+NiIX8qIKk4sFn7nf0Q/cyF2Hiryo4KiKeJrai+t5MvSmAVhRSZ9dFXoTSJf5GBGftVGeIS/sosyexT99CJsXVKsA9K3P9qNqo20JE4u3MqLNdmxxf249B3zmhAAABmkGeykUVLX8CVq0sJ3Oii7j2mGJSICYWPEb70QYE/EVKnk5hCrIgst7nAlP7KvHPQEBRIVVLpnG+ygqczwN4AQJUIWq+zovh2KdPwp7gAm68HcCgpogORa3BPw0qDhEoSHG7IG1N3z9X4ADU89px4EKPL0345AyOrUpem3ZvtbsMoR1cczdNbbdqPgBkgfVdPbTFQvvRca9GRnVJ2clkOH7lMxjLYMd2uvRfEAXoNZtOnmB8ZHu6Olv3xOTmBhY+FWCdLC6VzwfkeaXEMXYLGcgpMb0k0hDrYyp6mSW1purDJ+FBBwE3/6xFlPc4xIZF/J+CS5G0bLju9oJfLMdTACwHroIHPMOX2Wn1LU2+ZMM2v8Co3bgoUBeJU8GpOPHJwQcW/s+xKOv3tM0o02DBQGiqbbUrQBrcvOrNNlVXfClZ8E66JoAaWE1so8cpv/1OX0b7q46ejCI13aUQQL1+QRxsxuKAXYSm8IKAlufmZpo+TUTQkfiDgnTq30Oem9SXbXf+xLmZIhpqxNVOWeENGQ7djuVl0sKkY8+BAAABrAGe6XRJ/wK6JxFzjYQbXGgOVK1Vhi0K+e52vOFM9y9dsqL2HAWb0TxKTjUNak27KSUonz9Wqa+gjO+/l4yvY6eNcrPxElDIYguSuEgKM3F3cpHOtsrlgra35yfM74HLyFEPh/+7xK4/I6SLLR2z/63gO1T8TKDg1epphgaqbRUopYR23nyi69382eWkGrExKzy9EYUYoJWfEZbD9qEwIz4orzAQDn8TlkwRQ006Q57+eRe2YPLVAlSstR9TZNWce+vCXvOH+fcYHze4KtNxc1i+EX+RA+rnNnmlHOMo4Lw9IEOmCmRNzhvfHvx9eGG0C/NX9CyLn0eKcvZiXIKF/unSlX7007opANjfh6ihlBnjq98RpCdnW+mFpUO9gFIPVYGU/E7TFw8OPclETg13xbPM2oTHCPNgnGz4Zho03jzzIDRXsqJuK63E4ho6FZm7Zfda5Oz4ukThBGifiZrT8R00CdebLuhOMvScW4byRyALu8PkbDvZEXtWrJKAw21VmlG0T1A9sZ80xvgIBuUGxOqMAc3iqgZv/7He0ismEpnB4Pkp1dN9HEoK40WuAAAAyQGe62pJ/wK+/CQ8hW/UHvEFO/JT7zYSxBR5VDNXNqPXmZuy+50/zcBkD4nw+pHO2zpoIEJnMNXqtSdnZlWja3JGbOUcJABo98X2yHx/LKXYzl1iYRJEXC8EPKWKm0IAxgSL50XFAxs7fuJKff6Cnnv7y8IenCMWmPDqxqoaDD5EzVPOZ81n4Wbej3u9UsLP4Z6KDZtaucsOQE8UFJzWapLHWrCCH+mld48ZGBgHEWsGe+9YhwyHvruoDxvBU8TNMjHa0Na+PWCbsAAAAqxBmvBJqEFsmUwP/+RABkrHejzwDFFvdZd0pTLu+DBiTZF2O6O6eqIG9sPz0jOi2g3Md+jVFdFyvFQgTZtrVBKG1HI9SfLIn/V3bx/e58MlDW7aUqX9kp6VxU+ku2/7Ss5bILgn86oXtHTHx0s2DP52fjL2lbLKNVCIlGjDXIHS1aD/Wgo00jfoOgqN7Fu/4Zda7FQCDg00pvWqd7gJeq1JtpcmvyGiBHneWEDbtROyHqBdISJITnevQ7TAGy5XQ3uGa4GGmjTIVXjqsiKseihyUtlWK1oGeHrA5GuCWRLVcpzyRp5y+y2OpG+tTpzOVpUZvGou8SFGKN8rk+owcwOlos63iu2/QN3Nh/KCKDdIXRNxk0IXy63RIjxHj+AakHSQ4FnKcfHiqwCgP1k/6dAGyhn83TQh7nQpW8RZz8fPTEbTJBgtLrkhED5cHtiYrw5AZ9dQnyI4nSho57HpqX/ygSk/OiXw6/6DECr3t6DfhMaGPKvrsFGwmZ1UzDgC9xEhC/u/fLF8AXenur4lQYbLL3NUvWItw0RvqyuHZl52UTqbs2ehac6EpCdYAfefmlK/Tpiflh8e9fBaBQLfV+uk4OkLBlcVPx1tFswE9MtvF14Vk7Gr4YbXtJX/BkdJM1UxktVT0z3W4ZVQZ7scG1rgxwq3C20is9wpCUo+DcOGCZ8jP0oduNcIVJwQX73V7IXsb00YL+pqTa3LrQIM/xV4+Xz6sx2LssEvDNpPX+780iKUeAYMrg66zv0yv0Jq7woswZh2OVoenfQjnTHPuAtIARmmD3p85EgAaz/gWLsKPvqDat6ll2HpfjlSt/6aY25LFhMC0sq86DGbczJB6vGuD3SSn+/3nwqxajKHmTGKSRYkMAYBaxxCxGTwRs1V5tOHw4FWiT5ACyMSToEAAAHoQZ8ORRUtfwJTAyHXky7hR7gNVeVdlAy5Fqyo22ZAIcl67XwL//R76Vnyu47GV8Gb7WvwBaLGM/Qwz/KD87dy6ES11BFBxnto8s90fZCpemtrE3yytfaQk8t1vqYqDTseh6gAUIvHvBtSLsIrW/27B0xlNcMWmiS6/tar9YGaWrmU53SQiqrceof1IdAiLxkdVpa621AW/M+/NHO7f3pmce28zDhg3qnyLh2ATc0LLRD1IZ4soFdwofJsdZ+ZxKsZEe54Qe49FgXcd2E6FY2RiPaNDX6KgXbqr10BbOZXbnwSJL5hurb31OD+1ZZYxHYFpqI9K+Ud2todbBj26UOr3pNlzxxoRS7j0NVmVfeK2IsN2o2xdhTQZ8aPSDOhaw/cISmfYf45NIIk56Hbe6ayPc/db1YJA3eYhho+kR3SnbBcD8rKITxe6THcVlOij/eHlo00i1apKyq0Wejz87uz1sxRxr2vlXaL4E52YGHJaeI6Jvg6GXcwgUIQjHVe9t+ycxabbD+F1yCxA6Cl0a0GhS9WSecz+LlqRH/qfZSfL2tte85116j4h++12FLbM4zhXsvMfZrweiU5Z2cEq971A+nUI/h/kgqv4U+V92RNQXr5wO9UeF40PgBSV43MOqVBWOGSS7ljqCEAAAFBAZ8tdEn/Asafc94qMPAL0aTWU9Uzl96t9vtwcUXqLfNaSZz1nd24W2mEoYmRlDF6idqJTu6bXrlughlOecqcSz3UJAF6O3ugXk9HNRuxbCpgd0eoYrG9Kq78VawCYZQDb7DlCE1u2Ak11szUofeEFMOYlTYZdFwjC4yHr4ue9MjSduPaq8ox9SF2m2SYef1M1aG0JCGfj9668kAx7+hDAJtH+uAN0YiBCSfr62UK6U9pXUQnV9GsYn/EHUwkr/KJ387jC1P2iwp3aulZ5rhJdfcQZBs/wMrHslLi82xVqpnPwpj0QkQwAprepEDsvR0RykZCVHhB7GbDn9OIyp0ncrY1kRzkbHt8G/sX3SP1Hr4nUa68CJcEqcNhmuJuzekIGOJiP7abnPXYqN6CPd68u3u3DOV03Q8HC4SIX/PyJhWfAAABXAGfL2pJ/wKvnRCKwuk11G0fUN4knsbtXj+DC065yn2zCXe8dxRLPaL2RBXeHkQ8ObI52kUXAC0pq++KMaCPR0/MN/PXJuo2W8QBlJspINMkKFBehmnvrcVPC/8uy36r+8VYucw+D0qfZx8Zzqo3dNtHEZFCp+RAfL6boBl7C4aI7+czNX/9A4czuiY6dnQ41Fe4Z5H6wVoaeLVeUd2Z2PJQnBEvwaN8tpYueBsWMlB5168a8MgQySEfp5xyp08Fs9SMoKoyB2Q/gRiLpnDwlebY9lB368/0csA5rat9G5woBN87ukDL+0POb1o4LoNbJIES3TwnjA8t/uTN9UrhIyyOhq4J3qX9/bY/ldS0DNn3xzfLrxx9cssrrvJmiwgz6Z0+jHA86j1JMSnOK/BsLvtr9//gacs4wf0AqoZDEG/O2vWnHsAw9zx6/lDGnfmCcPFKRTZgJ97SUGSL8AAAAe9BmzRJqEFsmUwP/+RABiTvLheSpYkK/cMzN6gOG++D5/1UfWRetyaKRIC4RWrzj9I0HVEBCad3CbiKePeNw7shtCE8XERYwOEvVxDmXqUbpT5vAKaqt9V0WgBezj1c+5hJvJhapXDmUN74382YxDLD9uFPEPrVDoCWhP3BVihxLdDNvH0dJYayg/0i6sxdU6lVs03U1JCc/2EW+CSfYcjNTPxRXCGH9NpUt0vH9InvdkM5o7NHnTRSoPsgh26Z8YvDOQnG5BA60VRq0tcVTnQk53EiXXjiVU1n4gWPvCNitWY7uDUcHOxqE3XZ8MxZIctQPpByV02LeJv7Q2XJMgRRk8u2ApyEIy0TwXD3PaDmj2AQJCGJN3gLgoFRlgDe0sakvtiw5c9xYS7VE5PR9tZwf2N582GrytojpnFCx9IY1X4PoXqEGraLwqAE8HMiOVw/kmVQHiEwEASoEvNYdmWiZmP8bQvD8snlHF9/mFJSOxAgMg8I06lVbNDhBZeTkiLdemzhA3Is27239MwhsLmNTIIpR+Uvew6JMsqf35ylQMfeRaNr5XbcYEDRm35GYKN4Yrs4ew1S+UYT29MoQsQ1tKkzeCpxkArr5NH+XivhnMTkHuNckRjwS9QZbMgeT+NtOyJW6az+JGtlVlV2R0gAAADkQZ9SRRUtfwJMFL0nH3HJGqngIQgrd3qq2+p6xPWhUau6ba43n9jN/bl6xtxErTU2McnuXZ4FhoGKg9cPoAGVw8Twn2CGqtaEUp568Xun7KEddzB4v0+tGTs29g+OA4Vm2LK+vwzHgSVeUfrYwJhCa07DRT+y+rgdGE3dmoFixh53NMw7PengJo5EwMhVErKZeLif5g2XuctXjRSHXXq0CgN3bBRrhs1vaHkrA1Uncf/W9pj5C0ERgShrQ3D4P+m90BykbRiwllMRIQrEe5b7Fb37SoLcqcWBFwqlId+iR1jNwmgrAAAA3gGfcXRJ/wK0RfVjJdOvps5gCBUYFGtou3ZfV3lyUlVtVOZLAClGowSpHGbHdLhTL8/ZgQdPV/QLXCSMpcQu1zmTfZTHDnc7JFUKxEZr+Ck36xZUV8d9HlJ73XNfwCNTM0YanytmsQLvqWWudm7SZBhzyo929VyAEWci1eHedOI2k3g7XJLxk4pWxoUhNpEcuoHiRR8JJq03oFzUPtfN0YB7kGh+vOdugjzxwXBXOerVKMLk3MlTUd7rJSCcO3W0Xe2OoC/iJqtyPRQEz64J/PdqSGLPMVEMkyZ23TTp0AAAAGcBn3NqSf8CrQvNB9SGRFAHLiF+kgK54A/SAbb+QlQC5rrWe5FJQAKsqmPAKsTsmVz19LRc9g8mMNM3KZS7YO5h7dctcyhdKHZGMJinG2imw5jZM81AKFkOoQjfnJn9i5WYeuhuY5xMAAAA4UGbeEmoQWyZTA//5EAGG5HEhaptc7ouHqMX0kX6Tlr3qWaYcm7gCq4FqXPbr0TMgvydWiOQB402G+eKSCqkDcS9ww38sasuHaQcQ7Ttu5ZLvkbl2ltvFg4n8iFHyRmGRHXVVgIesXWeIpE1gQgY/m20gdDPnZBC/ThLxRgGCi6k6XY70jSh8+hKF6SLb9j/pDr0PKF80+GTHGF2ficLXOVNyVAYDLoJ2f4RgB3xKtnr1+95JKmvAE882Ei9YkBiRqo9o2ZmA6Ah31663Q0uziDqpBLmIVxrJjJvqRX8h6Z+3QAAACBBn5ZFFS1/AkntnVLDENvVefEdqw+M/ABlsiwbX0YvigAAACwBn7V0Sf8CqXd4d2r71dQQO0WdWMyO7YWdSYwulvJsDP1THp8Xd2HdtcVZWQAAABUBn7dqSf8Bjq7vQuoslCN/bjsaHlMAAAArQZu8SahBbJlMD//kQAOImYSHNcyTVBlpE8aizbcfCkacJIaQPlj+eqztgAAAAAxBn9pFFS1/AHxRHcUAAAAMAZ/5dEn/APBoFlG8AAAADAGf+2pJ/wDwGZcK6QAAADBBm+BJqEFsmUwP/+RAA4au9scsPhGJ8GRxUy2Xw3tZ2EDtnwrKBcvNQU2mpYvQr90AAAAWQZ4eRRUtfwFYl+ShlQsmnnT7HYCYqAAAAAwBnj10Sf8BjL9DMfgAAAAOAZ4/akn/AYNVPJndi/cAAAAZQZokSahBbJlMD//kQAIZLQaIYZL2LdVJwAAAAA5BnkJFFS1/ANiAcTNbcQAAAAkBnmF0Sf8ABSQAAAATAZ5jakn/APXOsoTPqWNJOhtbzwAAACBBmmhJqEFsmUwP/+RAA4av+fOW4KlML7yPowfdK9pxgQAAABNBnoZFFS1/AVioP/D/eWDu7nHhAAAAGAGepXRJ/wDwE0SAfhFBPN+SiMZ7S8LdoQAAABQBnqdqSf8A9c7gppK0MIxnzHFbzgAAAC1BmqxJqEFsmUwP/+RAAirCnku2R2PvYn++eksAe2LAfXbjaifjX5ziGj2EQzgAAAARQZ7KRRUtfwDYgHGE6a4eFzEAAAASAZ7pdEn/APa4ObQh0q+dAPTAAAAAFgGe62pJ/wDxNWhaQoXG/8dHGSAXIoAAAAAXQZrwSahBbJlMD//kQAIZT242AOpqVJ0AAAAPQZ8ORRUtfwDYfpPDZL9pAAAADAGfLXRJ/wDv4MeN4QAAABEBny9qSf8A8CW22WB3pzV+1gAAABtBmzRJqEFsmUwP/+RAAhqH39l/KwAM1W+zClgAAAAVQZ9SRRUtfwDYgHWTZbxATB2YgQonAAAADAGfcXRJ/wDqdHXu4AAAABIBn3NqSf8A7m1c30boNYHppoAAAAAYQZt4SahBbJlMD//kQAIJTcjSQqkMCN6BAAAAE0GflkUVLX8A2H4oA+vVN1OL9QYAAAANAZ+1dEn/APE4NQ1/QQAAAA0Bn7dqSf8A8Bpu3btBAAAAHEGbvEmoQWyZTA//5EACGTAuKqILUZP4dpIV1mAAAAAPQZ/aRRUtfwDYgHVZSi25AAAACQGf+XRJ/wAFJAAAAA0Bn/tqSf8A9c6KlG6BAAAAE0Gb4EmoQWyZTA//5EACGRW/4MsAAAAUQZ4eRRUtfwDYgGOwn69Ja6H3YMAAAAASAZ49dEn/AO5r1WiOHbrlcN4wAAAACwGeP2pJ/wDqwp2xAAAAJkGaJEmoQWyZTA//5EACOoTWCTg1jtIl61yDw4LAxo75yUqnyvggAAAAE0GeQkUVLX8AzJjN6UxhVQTuddEAAAAMAZ5hdEn/AOu4rvdwAAAACwGeY2pJ/wDr9ZO3AAAAJUGaaEmoQWyZTA//5EADnKoTc9GM4NE9YCLT/MpX4ntTFc5DG6EAAAAPQZ6GRRUtfwFhukrtjZPrAAAAEAGepXRJ/wGY+uhmbOaIxzUAAAATAZ6nakn/AO5r1WiOHb8Sr5btgAAAAChBmqxJqEFsmUwP/+RAA3HowyoWoq0DMXe2AwzTXj9fodF0JDlRwp7gAAAADkGeykUVLX8BT6gt88OXAAAAEwGe6XRJ/wGCxSjGgyQaFY3vv3wAAAAJAZ7rakn/AAUkAAAAHUGa8EmoQWyZTA//5EACKTLmP7VjnrPBuUZKpQbRAAAAEkGfDkUVLX8A0+6L6JcrXYA6mQAAAAsBny10Sf8A6u79rwAAAAsBny9qSf8A66Z7XAAAAB9BmzRJqEFsmUwP/+RAAirBzEhi46cMKXOWee2U9cJYAAAADkGfUkUVLX8A00LIWHa5AAAACQGfcXRJ/wAFJAAAABQBn3NqSf8A7mvWXKNXzWDHMTD5HAAAADBBm3hJqEFsmUwP/+RAAiqOJj33dqbfYupp6CGtIn40riqDAYg5WoKtXes6O0/4EHEAAAAUQZ+WRRUtfwDSjb0JOYeCgdj7pTAAAAAMAZ+1dEn/AO/0de3hAAAADwGft2pJ/wDrp1mqHTQ4IQAAACdBm7xJqEFsmUwP/+RAA4bWEgEFHCbEjY6eYh0XqB67F7HzXzoKYSYAAAANQZ/aRRUtfwDORUQMZQAAAAsBn/l0Sf8AkbQAKAAAAA0Bn/tqSf8A66dKP4jHAAAAHUGb4EmoQWyZTA//5EADhoShsSdJSlKKBNFybxRnAAAAEkGeHkUVLX8AzZ5Z0h7hOTXZgAAAABEBnj10Sf8A6pBG8TrJZAbvMAAAAAsBnj9qSf8AjZAq+QAAADZBmiRJqEFsmUwP/+RAA4aE4hyhsJZKr2hx4d2scGosgyCZOOKvsQUxfHRJ3H3d2i5Kx2vxMIAAAAAWQZ5CRRUtfwDTQ6/45tHq8HrniqRnrwAAAAwBnmF0Sf8A6nR17uAAAAASAZ5jakn/APEcnw5H1GEOzY0xAAAAMkGaaEmoQWyZTA//5EADsnW6EjIAPRZHwpdo8lz4gdyhzbHsBSsLqI7YLyt9SLMY+5IHAAAAFEGehkUVLX8Azn9OOSFDp+1Ui1dnAAAADgGepXRJ/wDwaU7+fDTBAAAACwGep2pJ/wDr9ZO2AAAAIEGarEmoQWyZTA//5EADhoTiH6porjKcl9a2FIqT/qdsAAAAF0GeykUVLX8A01HvUQun6rE5g+Ltcw8xAAAADQGe6XRJ/wDv5NzvfDgAAAAMAZ7rakn/APEcnx74AAAAKEGa8EmoQWyZTA//5EAGCFQHlNyKCB6UDng/MwoKZKzUfnJCyZeFeBcAAAAPQZ8ORRUtfwJKDsYKv99JAAAACwGfLXRJ/wKprdppAAAAEAGfL2pJ/wDua9VpFGPHLdsAAAAdQZsySahBbJlMFE//5EADhoTiGDv5GF+hAd5jpSAAAAALAZ9Rakn/AOrCnbEAAAiObW9vdgAAAGxtdmhkAAAAAAAAAAAAAAAAAAAD6AAADvoAAQAAAQAAAAAAAAAAAAAAAAEAAAAAAAAAAAAAAAAAAAABAAAAAAAAAAAAAAAAAABAAAAAAAAAAAAAAAAAAAAAAAAAAAAAAAAAAAAAAAAAAgAAB7h0cmFrAAAAXHRraGQAAAADAAAAAAAAAAAAAAABAAAAAAAADvoAAAAAAAAAAAAAAAAAAAAAAAEAAAAAAAAAAAAAAAAAAAABAAAAAAAAAAAAAAAAAABAAAAAAUAAAADwAAAAAAAkZWR0cwAAABxlbHN0AAAAAAAAAAEAAA76AAAEAAABAAAAAAcwbWRpYQAAACBtZGhkAAAAAAAAAAAAAAAAAAA8AAAA5gBVxAAAAAAALWhkbHIAAAAAAAAAAHZpZGUAAAAAAAAAAAAAAABWaWRlb0hhbmRsZXIAAAAG221pbmYAAAAUdm1oZAAAAAEAAAAAAAAAAAAAACRkaW5mAAAAHGRyZWYAAAAAAAAAAQAAAAx1cmwgAAAAAQAABptzdGJsAAAAr3N0c2QAAAAAAAAAAQAAAJ9hdmMxAAAAAAAAAAEAAAAAAAAAAAAAAAAAAAAAAUAA8ABIAAAASAAAAAAAAAABFUxhdmM1OS4zNy4xMDAgbGlieDI2NAAAAAAAAAAAAAAAGP//AAAANWF2Y0MBZAAN/+EAGGdkAA2s2UFB+hAAAAMAEAAAAwPA8UKZYAEABmjr4bLIsP34+AAAAAAUYnRydAAAAAAAALtzAAC7cwAAABhzdHRzAAAAAAAAAAEAAABzAAACAAAAABRzdHNzAAAAAAAAAAEAAAABAAADqGN0dHMAAAAAAAAAcwAAAAEAAAQAAAAAAQAACgAAAAABAAAEAAAAAAEAAAAAAAAAAQAAAgAAAAABAAAKAAAAAAEAAAQAAAAAAQAAAAAAAAABAAACAAAAAAEAAAoAAAAAAQAABAAAAAABAAAAAAAAAAEAAAIAAAAAAQAACgAAAAABAAAEAAAAAAEAAAAAAAAAAQAAAgAAAAABAAAKAAAAAAEAAAQAAAAAAQAAAAAAAAABAAACAAAAAAEAAAoAAAAAAQAABAAAAAABAAAAAAAAAAEAAAIAAAAAAQAACgAAAAABAAAEAAAAAAEAAAAAAAAAAQAAAgAAAAABAAAKAAAAAAEAAAQAAAAAAQAAAAAAAAABAAACAAAAAAEAAAoAAAAAAQAABAAAAAABAAAAAAAAAAEAAAIAAAAAAQAACgAAAAABAAAEAAAAAAEAAAAAAAAAAQAAAgAAAAABAAAKAAAAAAEAAAQAAAAAAQAAAAAAAAABAAACAAAAAAEAAAoAAAAAAQAABAAAAAABAAAAAAAAAAEAAAIAAAAAAQAACgAAAAABAAAEAAAAAAEAAAAAAAAAAQAAAgAAAAABAAAKAAAAAAEAAAQAAAAAAQAAAAAAAAABAAACAAAAAAEAAAoAAAAAAQAABAAAAAABAAAAAAAAAAEAAAIAAAAAAQAACgAAAAABAAAEAAAAAAEAAAAAAAAAAQAAAgAAAAABAAAKAAAAAAEAAAQAAAAAAQAAAAAAAAABAAACAAAAAAEAAAoAAAAAAQAABAAAAAABAAAAAAAAAAEAAAIAAAAAAQAACgAAAAABAAAEAAAAAAEAAAAAAAAAAQAAAgAAAAABAAAKAAAAAAEAAAQAAAAAAQAAAAAAAAABAAACAAAAAAEAAAoAAAAAAQAABAAAAAABAAAAAAAAAAEAAAIAAAAAAQAACgAAAAABAAAEAAAAAAEAAAAAAAAAAQAAAgAAAAABAAAKAAAAAAEAAAQAAAAAAQAAAAAAAAABAAACAAAAAAEAAAoAAAAAAQAABAAAAAABAAAAAAAAAAEAAAIAAAAAAQAACgAAAAABAAAEAAAAAAEAAAAAAAAAAQAAAgAAAAABAAAKAAAAAAEAAAQAAAAAAQAAAAAAAAABAAACAAAAAAEAAAoAAAAAAQAABAAAAAABAAAAAAAAAAEAAAIAAAAAAQAACgAAAAABAAAEAAAAAAEAAAAAAAAAAQAAAgAAAAABAAAGAAAAAAEAAAIAAAAAHHN0c2MAAAAAAAAAAQAAAAEAAABzAAAAAQAAAeBzdHN6AAAAAAAAAAAAAABzAAAiJgAABWkAAAM7AAACCQAAAsEAAAUPAAAEQQAAAx8AAAFNAAADIQAAAZ4AAAGwAAAAzQAAArAAAAHsAAABRQAAAWAAAAHzAAAA6AAAAOIAAABrAAAA5QAAACQAAAAwAAAAGQAAAC8AAAAQAAAAEAAAABAAAAA0AAAAGgAAABAAAAASAAAAHQAAABIAAAANAAAAFwAAACQAAAAXAAAAHAAAABgAAAAxAAAAFQAAABYAAAAaAAAAGwAAABMAAAAQAAAAFQAAAB8AAAAZAAAAEAAAABYAAAAcAAAAFwAAABEAAAARAAAAIAAAABMAAAANAAAAEQAAABcAAAAYAAAAFgAAAA8AAAAqAAAAFwAAABAAAAAPAAAAKQAAABMAAAAUAAAAFwAAACwAAAASAAAAFwAAAA0AAAAhAAAAFgAAAA8AAAAPAAAAIwAAABIAAAANAAAAGAAAADQAAAAYAAAAEAAAABMAAAArAAAAEQAAAA8AAAARAAAAIQAAABYAAAAVAAAADwAAADoAAAAaAAAAEAAAABYAAAA2AAAAGAAAABIAAAAPAAAAJAAAABsAAAARAAAAEAAAACwAAAATAAAADwAAABQAAAAhAAAADwAAABRzdGNvAAAAAAAAAAEAAAAwAAAAYnVkdGEAAABabWV0YQAAAAAAAAAhaGRscgAAAAAAAAAAbWRpcmFwcGwAAAAAAAAAAAAAAAAtaWxzdAAAACWpdG9vAAAAHWRhdGEAAAABAAAAAExhdmY1OS4yNy4xMDA=\" type=\"video/mp4\"/>\n",
       "      This browser does not support the video tag.\n",
       "      </video></td></tr></table>"
      ],
      "text/plain": [
       "<IPython.core.display.HTML object>"
      ]
     },
     "metadata": {},
     "output_type": "display_data"
    }
   ],
   "source": [
    "duration = 3.8  # (seconds)\n",
    "framerate = 30  # (Hz)\n",
    "\n",
    "# Simulate and display video.\n",
    "frames = []\n",
    "mujoco.mj_resetData(model, data)  # Reset state and time.\n",
    "while data.time < duration:\n",
    "    mujoco.mj_step(model, data)\n",
    "\n",
    "    if len(frames) < data.time * framerate:\n",
    "        renderer.update_scene(data)\n",
    "        pixels = renderer.render()\n",
    "        frames.append(pixels)\n",
    "media.show_video(frames, fps=framerate)"
   ]
  },
  {
   "cell_type": "markdown",
   "metadata": {
    "id": "-P95E-QHizQq"
   },
   "source": [
    "But isn't anything moving?"
   ]
  }
 ],
 "metadata": {
  "accelerator": "GPU",
  "colab": {
   "collapsed_sections": [
    "-re3Szx-1Ias"
   ],
   "private_outputs": true,
   "provenance": [],
   "toc_visible": true
  },
  "gpuClass": "premium",
  "kernelspec": {
   "display_name": "Python 3 (ipykernel)",
   "language": "python",
   "name": "python3"
  },
  "language_info": {
   "codemirror_mode": {
    "name": "ipython",
    "version": 3
   },
   "file_extension": ".py",
   "mimetype": "text/x-python",
   "name": "python",
   "nbconvert_exporter": "python",
   "pygments_lexer": "ipython3",
   "version": "3.11.9"
  }
 },
 "nbformat": 4,
 "nbformat_minor": 1
}
