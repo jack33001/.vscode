{
 "cells": [
  {
   "cell_type": "markdown",
   "metadata": {
    "id": "t0CF6Gvkt_Cw"
   },
   "source": [
    "# .mjb Model Generator"
   ]
  },
  {
   "cell_type": "code",
   "execution_count": 1,
   "metadata": {},
   "outputs": [],
   "source": [
    "import mujoco\n",
    "import mediapy as media\n",
    "import matplotlib.pyplot as plt\n",
    "\n",
    "import time\n",
    "import itertools\n",
    "import numpy as np"
   ]
  },
  {
   "cell_type": "code",
   "execution_count": 2,
   "metadata": {},
   "outputs": [],
   "source": [
    "xml = '''<mujoco model=\"Quadruped URDF\">\n",
    "  <compiler angle=\"radian\" meshdir=\"Quadruped URDF/meshes/\"/>\n",
    "  <option>\n",
    "    <flag energy=\"enable\"/>\n",
    "  </option>\n",
    "  <asset>\n",
    "    <mesh name=\"Body_bin\" file=\"Body_bin.STL\"/>\n",
    "    <mesh name=\"Front Right Thigh\" file=\"Front Right Thigh.STL\"/>\n",
    "    <mesh name=\"Front Right Shin\" file=\"Front Right Shin.STL\"/>\n",
    "    <mesh name=\"Front Left Thigh\" file=\"Front Left Thigh.STL\"/>\n",
    "    <mesh name=\"Front Left Shin\" file=\"Front Left Shin.STL\"/>\n",
    "    <mesh name=\"Rear Right Thigh\" file=\"Rear Right Thigh.STL\"/>\n",
    "    <mesh name=\"Rear Right Shin\" file=\"Rear Right Shin.STL\"/>\n",
    "    <mesh name=\"Rear Left Thigh\" file=\"Rear Left Thigh.STL\"/>\n",
    "    <mesh name=\"Rear Left Shin\" file=\"Rear Left Shin.STL\"/>\n",
    "  </asset>\n",
    "  <asset>\n",
    "    <texture name=\"grid\" type=\"2d\" builtin=\"checker\" rgb1=\".1 .2 .3\"\n",
    "     rgb2=\".2 .3 .4\" width=\"300\" height=\"300\" mark=\"none\"/>\n",
    "    <material name=\"grid\" texture=\"grid\" texrepeat=\"6 6\"\n",
    "     texuniform=\"true\" reflectance=\".2\"/>\n",
    "     <material name=\"wall\" rgba='.5 .5 .5 1'/>\n",
    "  </asset>\n",
    "  <worldbody>\n",
    "    <light name=\"light\" pos=\"-.2 0 1\"/>\n",
    "    <geom name=\"ground\" type=\"plane\" size=\"10 10 10\" material=\"grid\" contype=\"1\" conaffinity=\"1\" friction=\".7\"/> \n",
    "    <body name=\"Body\" pos=\"0 0 .3\">\n",
    "    <joint name=\"Body Free\" type=\"free\"/>\n",
    "      <geom name=\"Body\" type=\"mesh\" contype=\"1\" conaffinity=\"1\" group=\"1\" density=\"0\" rgba=\"0.363396 0.999339 0 1\" mesh=\"Body_bin\"/>\n",
    "      <inertial pos=\"0.0004967 -0.0019144 -0.00656282\" quat=\"0.499113 0.500689 -0.500109 0.500088\" mass=\"5\" diaginertia=\"0.03707987 0.037216486 0.00367331\"/>\n",
    "      <body name=\"Front Right Thigh\" pos=\"-0.15605 -0.1796 0\" quat=\"0.286214 0.646591 -0.286219 -0.646591\">\n",
    "        <inertial pos=\"2.43741e-05 -0.0142051 -0.00547111\" quat=\"0.499113 0.500689 -0.500109 0.500088\" mass=\"0.5\" diaginertia=\"0.00102412 0.000703444 0.000379087\"/>\n",
    "        <joint name=\"Front Right Hip\" type=\"hinge\" pos=\"0 0 0\" axis=\"0 0 1\"/>\n",
    "        <geom name=\"Front Right Thigh\" type=\"mesh\" contype=\"1\" conaffinity=\"1\" group=\"1\" density=\"0\" rgba=\".580992 .393846 .712274 1\" mesh=\"Front Right Thigh\"/>\n",
    "        <body name=\"Front Right Shin\" pos=\"0 -0.13625 0.014875\">\n",
    "          <inertial pos=\"0.124878 -0.00732498 0.000175056\" quat=\"0.0207105 0.70682 -0.0207132 0.706787\" mass=\"0.25\" diaginertia=\"5.097e-05 4.99084e-05 3.51177e-05\"/>\n",
    "          <joint name=\"Front Right Knee\" type=\"hinge\" pos=\"0 0 0\" axis=\"0 0 1\"/>\n",
    "          <geom name=\"Front Right Shin\" type=\"mesh\" contype=\"1\" conaffinity=\"1\" group=\"1\" density=\"0\" rgba=\"0.741616 0.534085 0.405905 1\" mesh=\"Front Right Shin\"/>\n",
    "        </body>\n",
    "      </body>\n",
    "      <body name=\"Front Left Thigh\" pos=\"0.15605 -0.1796 0\" quat=\"0.286214 0.646591 -0.286219 -0.646591\">\n",
    "        <inertial pos=\"-2.69567e-06 -0.0142673 0.00542296\" quat=\"0.500442 0.499547 -0.499649 0.500361\" mass=\"0.5\" diaginertia=\"0.00102412 0.000703378 0.000379152\"/>\n",
    "        <joint name=\"Front Left Hip\" type=\"hinge\" pos=\"0 0 0\" axis=\"0 0 1\"/>\n",
    "        <geom name = \"Front Left Thigh\" type=\"mesh\" contype=\"1\" conaffinity=\"1\" group=\"1\" density=\"0\" rgba=\".580992 .393846 .712274 1\" mesh=\"Front Left Thigh\"/>\n",
    "        <body name=\"Front Left Shin\" pos=\"0 -0.13625 -0.015125\">\n",
    "          <inertial pos=\"0.124878 -0.00732498 0.000177556\" quat=\"0.0207105 0.70682 -0.0207132 0.706787\" mass=\"0.25\" diaginertia=\"5.097e-05 4.99084e-05 3.51177e-05\"/>\n",
    "          <joint name=\"Front Left Knee\" type=\"hinge\" pos=\"0 0 0\" axis=\"0 0 1\"/>\n",
    "          <geom name=\"Front Left Shin\" type=\"mesh\" contype=\"1\" conaffinity=\"1\" group=\"1\" density=\"0\" rgba=\"0.741616 0.534085 0.405905 1\" mesh=\"Front Left Shin\"/>\n",
    "        </body>\n",
    "      </body>\n",
    "      <body name=\"Rear Right Thigh\" pos=\"-0.15605 0.1796 0\" quat=\"0.286214 0.646591 -0.286219 -0.646591\">\n",
    "        <inertial pos=\"2.43741e-05 -0.0142051 -0.00547111\" quat=\"0.499113 0.500689 -0.500109 0.500088\" mass=\"0.5\" diaginertia=\"0.00102412 0.000703444 0.000379087\"/>\n",
    "        <joint name=\"Rear Right Hip\" type=\"hinge\" pos=\"0 0 0\" axis=\"0 0 1\"/>\n",
    "        <geom name=\"Rear Right Thigh\" type=\"mesh\" contype=\"1\" conaffinity=\"1\" group=\"1\" density=\"0\" rgba=\".580992 .393846 .712274 1\" mesh=\"Rear Right Thigh\"/>\n",
    "        <body name=\"Rear Right Shin\" pos=\"0 -0.13625 0.015125\">\n",
    "          <inertial pos=\"0.124878 -0.00732498 0.000177556\" quat=\"0.0207105 0.70682 -0.0207132 0.706787\" mass=\"0.25\" diaginertia=\"5.097e-05 4.99084e-05 3.51177e-05\"/>\n",
    "          <joint name=\"Rear Right Knee\" type=\"hinge\" pos=\"0 0 0\" axis=\"0 0 1\"/>\n",
    "          <geom name=\"Rear Right Shin\" type=\"mesh\" contype=\"1\" conaffinity=\"1\" group=\"1\" density=\"0\" rgba=\"0.741616 0.534085 0.405905 1\" mesh=\"Rear Right Shin\"/>\n",
    "        </body>\n",
    "      </body>\n",
    "      <body name=\"Rear Left Thigh\" pos=\"0.15605 0.1796 0\" quat=\"0.286215 0.646592 -0.286215 -0.646592\">\n",
    "        <inertial pos=\"-2.69567e-06 -0.0142673 0.00542296\" quat=\"0.500442 0.499547 -0.499649 0.500361\" mass=\"0.5\" diaginertia=\"0.00102412 0.000703378 0.000379152\"/>\n",
    "        <joint name=\"Rear Left Hip\" type=\"hinge\" pos=\"0 0 0\" axis=\"0 0 1\"/>\n",
    "        <geom name=\"Rear Left Thigh\" type=\"mesh\" contype=\"1\" conaffinity=\"1\" group=\"1\" density=\"0\" rgba=\".580992 .393846 .712274 1\" mesh=\"Rear Left Thigh\"/>\n",
    "        <body name=\"Rear Left Shin\" pos=\"0 -0.13625 -0.015125\">\n",
    "          <inertial pos=\"0.124878 -0.00732498 0.000175056\" quat=\"0.0207105 0.70682 -0.0207132 0.706787\" mass=\"0.25\" diaginertia=\"5.097e-05 4.99084e-05 3.51177e-05\"/>\n",
    "          <joint name=\"Rear Left Knee\" type=\"hinge\" pos=\"0 0 0\" axis=\"0 0 1\"/>\n",
    "          <geom name=\"Rear Left Shin\" type=\"mesh\" contype=\"1\" conaffinity=\"1\" group=\"1\" density=\"0\" rgba=\"0.741616 0.534085 0.405905 1\" mesh=\"Rear Left Shin\"/>\n",
    "        </body>\n",
    "      </body>\n",
    "    </body>\n",
    "  </worldbody>\n",
    "\n",
    "  <actuator>\n",
    "\t\t<motor name=\"fr hip\" joint=\"Front Right Hip\" forcelimited=\"true\" forcerange=\"-8 8\"/>\n",
    "    <motor name=\"fr knee\" joint=\"Front Right Knee\" forcelimited=\"true\" forcerange=\"-8 8\"/>\n",
    "    <motor name=\"fl hip\" joint=\"Front Left Hip\" forcelimited=\"true\" forcerange=\"-8 8\"/>\n",
    "    <motor name=\"fl knee\" joint=\"Front Left Knee\" forcelimited=\"true\" forcerange=\"-8 8\"/>\n",
    "    <motor name=\"rr hip\" joint=\"Rear Right Hip\" forcelimited=\"true\" forcerange=\"-8 8\"/>\n",
    "    <motor name=\"rr knee\" joint=\"Rear Right Knee\" forcelimited=\"true\" forcerange=\"-8 8\"/>\n",
    "    <motor name=\"rl hip\" joint=\"Rear Left Hip\" forcelimited=\"true\" forcerange=\"-8 8\"/>\n",
    "    <motor name=\"rl knee\" joint=\"Rear Left Knee\" forcelimited=\"true\" forcerange=\"-8 8\"/> \n",
    "\t</actuator>\n",
    "\n",
    "\n",
    "</mujoco>'''"
   ]
  },
  {
   "cell_type": "code",
   "execution_count": 3,
   "metadata": {
    "id": "3KJVqak6xdJa"
   },
   "outputs": [],
   "source": [
    "model = mujoco.MjModel.from_xml_string(xml)\n",
    "'''When the urdf is imported PERFECTLY, save it with:'''\n",
    "mujoco.mj_saveModel(model, \"Quadruped MJB.mjb\")\n",
    "\n",
    "data = mujoco.MjData(model)\n",
    "renderer = mujoco.Renderer(model)"
   ]
  },
  {
   "cell_type": "markdown",
   "metadata": {
    "id": "-P95E-QHizQq"
   },
   "source": [
    "# Simulation\n",
    "\n",
    "Now let's simulate and make a video. We'll use MuJoCo's main high level function `mj_step`, which steps the state $x_{t+h} = f(x_t)$.\n",
    "\n",
    "Note that in the code block below we are *not* rendering after each call to `mj_step`. This is because the default timestep is 2ms, and we want a 60fps video, not 500fps."
   ]
  },
  {
   "cell_type": "code",
   "execution_count": 4,
   "metadata": {
    "id": "NdVnHOYisiKl"
   },
   "outputs": [
    {
     "data": {
      "text/html": [
       "<table class=\"show_videos\" style=\"border-spacing:0px;\"><tr><td style=\"padding:1px;\"><video controls width=\"320\" height=\"240\" style=\"object-fit:cover;\" loop autoplay muted>\n",
       "      <source src=\"data:video/mp4;base64,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\" type=\"video/mp4\"/>\n",
       "      This browser does not support the video tag.\n",
       "      </video></td></tr></table>"
      ],
      "text/plain": [
       "<IPython.core.display.HTML object>"
      ]
     },
     "metadata": {},
     "output_type": "display_data"
    }
   ],
   "source": [
    "duration = 3.8  # (seconds)\n",
    "framerate = 30  # (Hz)\n",
    "\n",
    "# Simulate and display video.\n",
    "frames = []\n",
    "mujoco.mj_resetData(model, data)  # Reset state and time.\n",
    "while data.time < duration:\n",
    "    mujoco.mj_step(model, data)\n",
    "\n",
    "    if len(frames) < data.time * framerate:\n",
    "        renderer.update_scene(data)\n",
    "        pixels = renderer.render()\n",
    "        frames.append(pixels)\n",
    "media.show_video(frames, fps=framerate)"
   ]
  },
  {
   "cell_type": "markdown",
   "metadata": {
    "id": "-P95E-QHizQq"
   },
   "source": [
    "But isn't anything moving?"
   ]
  }
 ],
 "metadata": {
  "accelerator": "GPU",
  "colab": {
   "collapsed_sections": [
    "-re3Szx-1Ias"
   ],
   "private_outputs": true,
   "provenance": [],
   "toc_visible": true
  },
  "gpuClass": "premium",
  "kernelspec": {
   "display_name": "Python 3 (ipykernel)",
   "language": "python",
   "name": "python3"
  },
  "language_info": {
   "codemirror_mode": {
    "name": "ipython",
    "version": 3
   },
   "file_extension": ".py",
   "mimetype": "text/x-python",
   "name": "python",
   "nbconvert_exporter": "python",
   "pygments_lexer": "ipython3",
   "version": "3.11.9"
  }
 },
 "nbformat": 4,
 "nbformat_minor": 1
}
