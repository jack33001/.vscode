{
 "cells": [
  {
   "cell_type": "markdown",
   "metadata": {
    "id": "t0CF6Gvkt_Cw"
   },
   "source": [
    "# .mjb Model Generator"
   ]
  },
  {
   "cell_type": "code",
   "execution_count": 1,
   "metadata": {},
   "outputs": [],
   "source": [
    "import mujoco\n",
    "import mediapy as media\n",
    "import matplotlib.pyplot as plt\n",
    "\n",
    "import time\n",
    "import itertools\n",
    "import numpy as np"
   ]
  },
  {
   "cell_type": "code",
   "execution_count": 2,
   "metadata": {},
   "outputs": [],
   "source": [
    "xml = '''<mujoco model=\"Quadruped URDF\">\n",
    "  <compiler angle=\"radian\" meshdir=\"Quadruped URDF/meshes/\"/>\n",
    "\n",
    "  <option>\n",
    "    <flag energy=\"enable\"/>\n",
    "  </option>\n",
    "\n",
    "  <asset>\n",
    "    <mesh name=\"Body_bin\" file=\"Body_bin.STL\"/>\n",
    "    <mesh name=\"Front Right Thigh\" file=\"Front Right Thigh.STL\"/>\n",
    "    <mesh name=\"Front Right Shin\" file=\"Front Right Shin.STL\"/>\n",
    "    <mesh name=\"Front Left Thigh\" file=\"Front Left Thigh.STL\"/>\n",
    "    <mesh name=\"Front Left Shin\" file=\"Front Left Shin.STL\"/>\n",
    "    <mesh name=\"Rear Right Thigh\" file=\"Rear Right Thigh.STL\"/>\n",
    "    <mesh name=\"Rear Right Shin\" file=\"Rear Right Shin.STL\"/>\n",
    "    <mesh name=\"Rear Left Thigh\" file=\"Rear Left Thigh.STL\"/>\n",
    "    <mesh name=\"Rear Left Shin\" file=\"Rear Left Shin.STL\"/>\n",
    "  </asset>\n",
    "\n",
    "  <asset>\n",
    "    <texture name=\"grid\" type=\"2d\" builtin=\"checker\" rgb1=\".1 .2 .3\"\n",
    "     rgb2=\".2 .3 .4\" width=\"300\" height=\"300\" mark=\"none\"/>\n",
    "    <material name=\"grid\" texture=\"grid\" texrepeat=\"6 6\"\n",
    "     texuniform=\"true\" reflectance=\".2\"/>\n",
    "     <material name=\"wall\" rgba='.5 .5 .5 1'/>\n",
    "  </asset>\n",
    "\n",
    "  <visual>\n",
    "\t\t<headlight diffuse=\"0.9 0.9 0.9\" specular=\"0.6 0.6 0.6\"/>\n",
    "    <global offwidth=\"1920\" offheight=\"1080\"/>\n",
    "\t</visual>\n",
    "\n",
    "  <worldbody>\n",
    "    <geom name=\"ground\" type=\"plane\" size=\"100 100 100\" material=\"grid\" contype=\"1\" conaffinity=\"1\" friction=\".7\"/> \n",
    "    <body name=\"Body\" pos=\"0 0 .3\">\n",
    "    <joint name=\"Body Free\" type=\"free\"/>\n",
    "      <geom name=\"Body\" type=\"mesh\" contype=\"1\" conaffinity=\"1\" group=\"1\" density=\"0\" rgba=\"0.363396 0.999339 0 1\" mesh=\"Body_bin\"/>\n",
    "      <inertial pos=\"0.0004967 -0.0019144 -0.00656282\" quat=\"0.499113 0.500689 -0.500109 0.500088\" mass=\"5\" diaginertia=\"0.03707987 0.037216486 0.00367331\"/>\n",
    "      <body name=\"Front Right Thigh\" pos=\"-0.15605 -0.1796 0\" quat=\"0.286214 0.646591 -0.286219 -0.646591\">\n",
    "        <inertial pos=\"2.43741e-05 -0.0142051 -0.00547111\" quat=\"0.499113 0.500689 -0.500109 0.500088\" mass=\"0.5\" diaginertia=\"0.00102412 0.000703444 0.000379087\"/>\n",
    "        <joint name=\"Front Right Hip\" type=\"hinge\" pos=\"0 0 0\" axis=\"0 0 1\"/>\n",
    "        <geom name=\"Front Right Thigh\" type=\"mesh\" contype=\"1\" conaffinity=\"1\" group=\"1\" density=\"0\" rgba=\".580992 .393846 .712274 1\" mesh=\"Front Right Thigh\"/>\n",
    "        <body name=\"Front Right Shin\" pos=\"0 -0.13625 0.014875\">\n",
    "          <inertial pos=\"0.124878 -0.00732498 0.000175056\" quat=\"0.0207105 0.70682 -0.0207132 0.706787\" mass=\"0.25\" diaginertia=\"5.097e-05 4.99084e-05 3.51177e-05\"/>\n",
    "          <joint name=\"Front Right Knee\" type=\"hinge\" pos=\"0 0 0\" axis=\"0 0 1\"/>\n",
    "          <geom name=\"Front Right Shin\" type=\"mesh\" contype=\"1\" conaffinity=\"1\" group=\"1\" density=\"0\" rgba=\"0.741616 0.534085 0.405905 1\" mesh=\"Front Right Shin\"/>\n",
    "        </body>\n",
    "      </body>\n",
    "      <body name=\"Front Left Thigh\" pos=\"0.15605 -0.1796 0\" quat=\"0.286214 0.646591 -0.286219 -0.646591\">\n",
    "        <inertial pos=\"-2.69567e-06 -0.0142673 0.00542296\" quat=\"0.500442 0.499547 -0.499649 0.500361\" mass=\"0.5\" diaginertia=\"0.00102412 0.000703378 0.000379152\"/>\n",
    "        <joint name=\"Front Left Hip\" type=\"hinge\" pos=\"0 0 0\" axis=\"0 0 1\"/>\n",
    "        <geom name = \"Front Left Thigh\" type=\"mesh\" contype=\"1\" conaffinity=\"1\" group=\"1\" density=\"0\" rgba=\".580992 .393846 .712274 1\" mesh=\"Front Left Thigh\"/>\n",
    "        <body name=\"Front Left Shin\" pos=\"0 -0.13625 -0.015125\">\n",
    "          <inertial pos=\"0.124878 -0.00732498 0.000177556\" quat=\"0.0207105 0.70682 -0.0207132 0.706787\" mass=\"0.25\" diaginertia=\"5.097e-05 4.99084e-05 3.51177e-05\"/>\n",
    "          <joint name=\"Front Left Knee\" type=\"hinge\" pos=\"0 0 0\" axis=\"0 0 1\"/>\n",
    "          <geom name=\"Front Left Shin\" type=\"mesh\" contype=\"1\" conaffinity=\"1\" group=\"1\" density=\"0\" rgba=\"0.741616 0.534085 0.405905 1\" mesh=\"Front Left Shin\"/>\n",
    "        </body>\n",
    "      </body>\n",
    "      <body name=\"Rear Right Thigh\" pos=\"-0.15605 0.1796 0\" quat=\"0.286214 0.646591 -0.286219 -0.646591\">\n",
    "        <inertial pos=\"2.43741e-05 -0.0142051 -0.00547111\" quat=\"0.499113 0.500689 -0.500109 0.500088\" mass=\"0.5\" diaginertia=\"0.00102412 0.000703444 0.000379087\"/>\n",
    "        <joint name=\"Rear Right Hip\" type=\"hinge\" pos=\"0 0 0\" axis=\"0 0 1\"/>\n",
    "        <geom name=\"Rear Right Thigh\" type=\"mesh\" contype=\"1\" conaffinity=\"1\" group=\"1\" density=\"0\" rgba=\".580992 .393846 .712274 1\" mesh=\"Rear Right Thigh\"/>\n",
    "        <body name=\"Rear Right Shin\" pos=\"0 -0.13625 0.015125\">\n",
    "          <inertial pos=\"0.124878 -0.00732498 0.000177556\" quat=\"0.0207105 0.70682 -0.0207132 0.706787\" mass=\"0.25\" diaginertia=\"5.097e-05 4.99084e-05 3.51177e-05\"/>\n",
    "          <joint name=\"Rear Right Knee\" type=\"hinge\" pos=\"0 0 0\" axis=\"0 0 1\"/>\n",
    "          <geom name=\"Rear Right Shin\" type=\"mesh\" contype=\"1\" conaffinity=\"1\" group=\"1\" density=\"0\" rgba=\"0.741616 0.534085 0.405905 1\" mesh=\"Rear Right Shin\"/>\n",
    "        </body>\n",
    "      </body>\n",
    "      <body name=\"Rear Left Thigh\" pos=\"0.15605 0.1796 0\" quat=\"0.286215 0.646592 -0.286215 -0.646592\">\n",
    "        <inertial pos=\"-2.69567e-06 -0.0142673 0.00542296\" quat=\"0.500442 0.499547 -0.499649 0.500361\" mass=\"0.5\" diaginertia=\"0.00102412 0.000703378 0.000379152\"/>\n",
    "        <joint name=\"Rear Left Hip\" type=\"hinge\" pos=\"0 0 0\" axis=\"0 0 1\"/>\n",
    "        <geom name=\"Rear Left Thigh\" type=\"mesh\" contype=\"1\" conaffinity=\"1\" group=\"1\" density=\"0\" rgba=\".580992 .393846 .712274 1\" mesh=\"Rear Left Thigh\"/>\n",
    "        <body name=\"Rear Left Shin\" pos=\"0 -0.13625 -0.015125\">\n",
    "          <inertial pos=\"0.124878 -0.00732498 0.000175056\" quat=\"0.0207105 0.70682 -0.0207132 0.706787\" mass=\"0.25\" diaginertia=\"5.097e-05 4.99084e-05 3.51177e-05\"/>\n",
    "          <joint name=\"Rear Left Knee\" type=\"hinge\" pos=\"0 0 0\" axis=\"0 0 1\"/>\n",
    "          <geom name=\"Rear Left Shin\" type=\"mesh\" contype=\"1\" conaffinity=\"1\" group=\"1\" density=\"0\" rgba=\"0.741616 0.534085 0.405905 1\" mesh=\"Rear Left Shin\"/>\n",
    "        </body>\n",
    "      </body>\n",
    "    </body>\n",
    "  </worldbody>\n",
    "\n",
    "  <actuator>\n",
    "\t\t<motor name=\"fr hip\" joint=\"Front Right Hip\" forcelimited=\"true\" forcerange=\"-8 8\"/>\n",
    "    <motor name=\"fr knee\" joint=\"Front Right Knee\" forcelimited=\"true\" forcerange=\"-8 8\"/>\n",
    "    <motor name=\"fl hip\" joint=\"Front Left Hip\" forcelimited=\"true\" forcerange=\"-8 8\"/>\n",
    "    <motor name=\"fl knee\" joint=\"Front Left Knee\" forcelimited=\"true\" forcerange=\"-8 8\"/>\n",
    "    <motor name=\"rr hip\" joint=\"Rear Right Hip\" forcelimited=\"true\" forcerange=\"-8 8\"/>\n",
    "    <motor name=\"rr knee\" joint=\"Rear Right Knee\" forcelimited=\"true\" forcerange=\"-8 8\"/>\n",
    "    <motor name=\"rl hip\" joint=\"Rear Left Hip\" forcelimited=\"true\" forcerange=\"-8 8\"/>\n",
    "    <motor name=\"rl knee\" joint=\"Rear Left Knee\" forcelimited=\"true\" forcerange=\"-8 8\"/> \n",
    "\t</actuator>\n",
    "\n",
    "\n",
    "</mujoco>'''"
   ]
  },
  {
   "cell_type": "code",
   "execution_count": 3,
   "metadata": {
    "id": "3KJVqak6xdJa"
   },
   "outputs": [],
   "source": [
    "model = mujoco.MjModel.from_xml_string(xml)\n",
    "'''When the urdf is imported PERFECTLY, save it with:'''\n",
    "mujoco.mj_saveModel(model, \"Quadruped MJB.mjb\")\n",
    "\n",
    "data = mujoco.MjData(model)\n",
    "renderer = mujoco.Renderer(model)"
   ]
  },
  {
   "cell_type": "markdown",
   "metadata": {
    "id": "-P95E-QHizQq"
   },
   "source": [
    "# Simulation\n",
    "\n",
    "Now let's simulate and make a video. We'll use MuJoCo's main high level function `mj_step`, which steps the state $x_{t+h} = f(x_t)$.\n",
    "\n",
    "Note that in the code block below we are *not* rendering after each call to `mj_step`. This is because the default timestep is 2ms, and we want a 60fps video, not 500fps."
   ]
  },
  {
   "cell_type": "code",
   "execution_count": 4,
   "metadata": {
    "id": "NdVnHOYisiKl"
   },
   "outputs": [
    {
     "data": {
      "text/html": [
       "<table class=\"show_videos\" style=\"border-spacing:0px;\"><tr><td style=\"padding:1px;\"><video controls width=\"320\" height=\"240\" style=\"object-fit:cover;\" loop autoplay muted>\n",
       "      <source src=\"data:video/mp4;base64,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\" type=\"video/mp4\"/>\n",
       "      This browser does not support the video tag.\n",
       "      </video></td></tr></table>"
      ],
      "text/plain": [
       "<IPython.core.display.HTML object>"
      ]
     },
     "metadata": {},
     "output_type": "display_data"
    }
   ],
   "source": [
    "duration = 3.8  # (seconds)\n",
    "framerate = 30  # (Hz)\n",
    "\n",
    "# Simulate and display video.\n",
    "frames = []\n",
    "mujoco.mj_resetData(model, data)  # Reset state and time.\n",
    "while data.time < duration:\n",
    "    mujoco.mj_step(model, data)\n",
    "\n",
    "    if len(frames) < data.time * framerate:\n",
    "        renderer.update_scene(data)\n",
    "        pixels = renderer.render()\n",
    "        frames.append(pixels)\n",
    "media.show_video(frames, fps=framerate)"
   ]
  },
  {
   "cell_type": "markdown",
   "metadata": {
    "id": "-P95E-QHizQq"
   },
   "source": [
    "But isn't anything moving?"
   ]
  }
 ],
 "metadata": {
  "accelerator": "GPU",
  "colab": {
   "collapsed_sections": [
    "-re3Szx-1Ias"
   ],
   "private_outputs": true,
   "provenance": [],
   "toc_visible": true
  },
  "gpuClass": "premium",
  "kernelspec": {
   "display_name": "Python 3 (ipykernel)",
   "language": "python",
   "name": "python3"
  },
  "language_info": {
   "codemirror_mode": {
    "name": "ipython",
    "version": 3
   },
   "file_extension": ".py",
   "mimetype": "text/x-python",
   "name": "python",
   "nbconvert_exporter": "python",
   "pygments_lexer": "ipython3",
   "version": "3.11.9"
  }
 },
 "nbformat": 4,
 "nbformat_minor": 1
}
